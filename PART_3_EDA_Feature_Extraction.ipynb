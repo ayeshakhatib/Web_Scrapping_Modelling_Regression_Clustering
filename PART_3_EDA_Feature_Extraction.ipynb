{
 "cells": [
  {
   "cell_type": "markdown",
   "metadata": {},
   "source": [
    "# Web Scraping for Indeed.com Australia and Salary Prediction\n",
    "\n",
    "##               Model Option 2"
   ]
  },
  {
   "cell_type": "markdown",
   "metadata": {},
   "source": [
    "This project is a test of three major skills: collecting data by scraping a website, using natural language processing, and building a binary classifier.\n",
    "\n",
    "Author : Ayesha Khatib"
   ]
  },
  {
   "cell_type": "markdown",
   "metadata": {},
   "source": [
    "### Import packages"
   ]
  },
  {
   "cell_type": "code",
   "execution_count": 2,
   "metadata": {},
   "outputs": [],
   "source": [
    "import pandas as pd\n",
    "import numpy as np\n",
    "\n",
    "import seaborn as sns\n",
    "import matplotlib.pyplot as plt\n",
    "%matplotlib inline\n",
    "\n",
    "from sklearn.preprocessing import StandardScaler\n",
    "from sklearn.model_selection import train_test_split, GridSearchCV\n",
    "from sklearn.feature_selection import RFECV, RFE, SelectKBest, f_regression\n",
    "from sklearn.linear_model import LinearRegression, RidgeCV, Ridge, LassoCV, Lasso, ElasticNetCV, ElasticNet\n",
    "from sklearn.metrics import accuracy_score, r2_score, confusion_matrix, classification_report, precision_score, recall_score, f1_score\n",
    "from sklearn.neighbors import KNeighborsClassifier\n",
    "from sklearn.svm import SVC\n",
    "from sklearn.tree import DecisionTreeClassifier\n",
    "from sklearn.ensemble import BaggingClassifier, RandomForestClassifier"
   ]
  },
  {
   "cell_type": "code",
   "execution_count": 3,
   "metadata": {},
   "outputs": [],
   "source": [
    "file = 'jobs_part2_cleanup.csv'\n",
    "jobs = pd.read_csv(file, index_col=0)"
   ]
  },
  {
   "cell_type": "code",
   "execution_count": 4,
   "metadata": {
    "scrolled": true
   },
   "outputs": [
    {
     "data": {
      "text/html": [
       "<div>\n",
       "<style scoped>\n",
       "    .dataframe tbody tr th:only-of-type {\n",
       "        vertical-align: middle;\n",
       "    }\n",
       "\n",
       "    .dataframe tbody tr th {\n",
       "        vertical-align: top;\n",
       "    }\n",
       "\n",
       "    .dataframe thead th {\n",
       "        text-align: right;\n",
       "    }\n",
       "</style>\n",
       "<table border=\"1\" class=\"dataframe\">\n",
       "  <thead>\n",
       "    <tr style=\"text-align: right;\">\n",
       "      <th></th>\n",
       "      <th>Job_Title</th>\n",
       "      <th>City</th>\n",
       "      <th>Low_Salary</th>\n",
       "      <th>Hi_Salary</th>\n",
       "      <th>Salary_period</th>\n",
       "      <th>Salary_mean</th>\n",
       "      <th>Job_Title_analyst</th>\n",
       "      <th>Job_Title_data</th>\n",
       "      <th>Job_Title_scientist</th>\n",
       "      <th>Job_Title_business</th>\n",
       "      <th>...</th>\n",
       "      <th>skill_python</th>\n",
       "      <th>skill_spark</th>\n",
       "      <th>skill_hadoop</th>\n",
       "      <th>skill_tableau</th>\n",
       "      <th>skill_r</th>\n",
       "      <th>skill_excel</th>\n",
       "      <th>skill_sas</th>\n",
       "      <th>skill_spss</th>\n",
       "      <th>skill_aws</th>\n",
       "      <th>skill_kafka</th>\n",
       "    </tr>\n",
       "    <tr>\n",
       "      <th>Company</th>\n",
       "      <th></th>\n",
       "      <th></th>\n",
       "      <th></th>\n",
       "      <th></th>\n",
       "      <th></th>\n",
       "      <th></th>\n",
       "      <th></th>\n",
       "      <th></th>\n",
       "      <th></th>\n",
       "      <th></th>\n",
       "      <th></th>\n",
       "      <th></th>\n",
       "      <th></th>\n",
       "      <th></th>\n",
       "      <th></th>\n",
       "      <th></th>\n",
       "      <th></th>\n",
       "      <th></th>\n",
       "      <th></th>\n",
       "      <th></th>\n",
       "      <th></th>\n",
       "    </tr>\n",
       "  </thead>\n",
       "  <tbody>\n",
       "    <tr>\n",
       "      <th>The Eclair Group</th>\n",
       "      <td>Junior Data Scientist</td>\n",
       "      <td>Sydney</td>\n",
       "      <td>70000.0</td>\n",
       "      <td>90000.0</td>\n",
       "      <td>year</td>\n",
       "      <td>80000.0</td>\n",
       "      <td>0.0</td>\n",
       "      <td>0.363327</td>\n",
       "      <td>0.478627</td>\n",
       "      <td>0.0</td>\n",
       "      <td>...</td>\n",
       "      <td>0</td>\n",
       "      <td>0</td>\n",
       "      <td>0</td>\n",
       "      <td>0</td>\n",
       "      <td>1</td>\n",
       "      <td>0</td>\n",
       "      <td>0</td>\n",
       "      <td>0</td>\n",
       "      <td>0</td>\n",
       "      <td>0</td>\n",
       "    </tr>\n",
       "    <tr>\n",
       "      <th>Intellify</th>\n",
       "      <td>Junior data scientist/machine learning engineer</td>\n",
       "      <td>Sydney</td>\n",
       "      <td>80000.0</td>\n",
       "      <td>100000.0</td>\n",
       "      <td>year</td>\n",
       "      <td>90000.0</td>\n",
       "      <td>0.0</td>\n",
       "      <td>0.219006</td>\n",
       "      <td>0.288505</td>\n",
       "      <td>0.0</td>\n",
       "      <td>...</td>\n",
       "      <td>0</td>\n",
       "      <td>0</td>\n",
       "      <td>0</td>\n",
       "      <td>0</td>\n",
       "      <td>1</td>\n",
       "      <td>1</td>\n",
       "      <td>0</td>\n",
       "      <td>0</td>\n",
       "      <td>0</td>\n",
       "      <td>0</td>\n",
       "    </tr>\n",
       "  </tbody>\n",
       "</table>\n",
       "<p>2 rows × 1042 columns</p>\n",
       "</div>"
      ],
      "text/plain": [
       "                                                                Job_Title  \\\n",
       "Company                                                                     \n",
       "        The Eclair Group                            Junior Data Scientist   \n",
       "        Intellify         Junior data scientist/machine learning engineer   \n",
       "\n",
       "                            City  Low_Salary  Hi_Salary Salary_period  \\\n",
       "Company                                                                 \n",
       "        The Eclair Group  Sydney     70000.0    90000.0          year   \n",
       "        Intellify         Sydney     80000.0   100000.0          year   \n",
       "\n",
       "                          Salary_mean  Job_Title_analyst  Job_Title_data  \\\n",
       "Company                                                                    \n",
       "        The Eclair Group      80000.0                0.0        0.363327   \n",
       "        Intellify             90000.0                0.0        0.219006   \n",
       "\n",
       "                          Job_Title_scientist  Job_Title_business  \\\n",
       "Company                                                             \n",
       "        The Eclair Group             0.478627                 0.0   \n",
       "        Intellify                    0.288505                 0.0   \n",
       "\n",
       "                             ...       skill_python  skill_spark  \\\n",
       "Company                      ...                                   \n",
       "        The Eclair Group     ...                  0            0   \n",
       "        Intellify            ...                  0            0   \n",
       "\n",
       "                          skill_hadoop  skill_tableau  skill_r  skill_excel  \\\n",
       "Company                                                                       \n",
       "        The Eclair Group             0              0        1            0   \n",
       "        Intellify                    0              0        1            1   \n",
       "\n",
       "                          skill_sas  skill_spss  skill_aws  skill_kafka  \n",
       "Company                                                                  \n",
       "        The Eclair Group          0           0          0            0  \n",
       "        Intellify                 0           0          0            0  \n",
       "\n",
       "[2 rows x 1042 columns]"
      ]
     },
     "execution_count": 4,
     "metadata": {},
     "output_type": "execute_result"
    }
   ],
   "source": [
    "jobs.head(2)"
   ]
  },
  {
   "cell_type": "markdown",
   "metadata": {},
   "source": [
    "### Exploratory Data Analysis (EDA)"
   ]
  },
  {
   "cell_type": "code",
   "execution_count": 5,
   "metadata": {},
   "outputs": [
    {
     "data": {
      "text/html": [
       "<div>\n",
       "<style scoped>\n",
       "    .dataframe tbody tr th:only-of-type {\n",
       "        vertical-align: middle;\n",
       "    }\n",
       "\n",
       "    .dataframe tbody tr th {\n",
       "        vertical-align: top;\n",
       "    }\n",
       "\n",
       "    .dataframe thead th {\n",
       "        text-align: right;\n",
       "    }\n",
       "</style>\n",
       "<table border=\"1\" class=\"dataframe\">\n",
       "  <thead>\n",
       "    <tr style=\"text-align: right;\">\n",
       "      <th></th>\n",
       "      <th>Low_Salary</th>\n",
       "      <th>Hi_Salary</th>\n",
       "      <th>Salary_mean</th>\n",
       "      <th>Job_Title_analyst</th>\n",
       "      <th>Job_Title_data</th>\n",
       "      <th>Job_Title_scientist</th>\n",
       "      <th>Job_Title_business</th>\n",
       "      <th>Job_Title_senior</th>\n",
       "      <th>Job_Title_engineer</th>\n",
       "      <th>Job_Title_manager</th>\n",
       "      <th>...</th>\n",
       "      <th>skill_python</th>\n",
       "      <th>skill_spark</th>\n",
       "      <th>skill_hadoop</th>\n",
       "      <th>skill_tableau</th>\n",
       "      <th>skill_r</th>\n",
       "      <th>skill_excel</th>\n",
       "      <th>skill_sas</th>\n",
       "      <th>skill_spss</th>\n",
       "      <th>skill_aws</th>\n",
       "      <th>skill_kafka</th>\n",
       "    </tr>\n",
       "  </thead>\n",
       "  <tbody>\n",
       "    <tr>\n",
       "      <th>count</th>\n",
       "      <td>104.000000</td>\n",
       "      <td>104.000000</td>\n",
       "      <td>104.000000</td>\n",
       "      <td>516.000000</td>\n",
       "      <td>516.000000</td>\n",
       "      <td>516.000000</td>\n",
       "      <td>516.000000</td>\n",
       "      <td>516.000000</td>\n",
       "      <td>516.000000</td>\n",
       "      <td>516.000000</td>\n",
       "      <td>...</td>\n",
       "      <td>516.000000</td>\n",
       "      <td>516.000000</td>\n",
       "      <td>516.000000</td>\n",
       "      <td>516.000000</td>\n",
       "      <td>516.0</td>\n",
       "      <td>516.000000</td>\n",
       "      <td>516.000000</td>\n",
       "      <td>516.000000</td>\n",
       "      <td>516.000000</td>\n",
       "      <td>516.000000</td>\n",
       "    </tr>\n",
       "    <tr>\n",
       "      <th>mean</th>\n",
       "      <td>103733.163462</td>\n",
       "      <td>117485.653846</td>\n",
       "      <td>110609.408654</td>\n",
       "      <td>0.141564</td>\n",
       "      <td>0.120068</td>\n",
       "      <td>0.079421</td>\n",
       "      <td>0.065005</td>\n",
       "      <td>0.054612</td>\n",
       "      <td>0.025813</td>\n",
       "      <td>0.024785</td>\n",
       "      <td>...</td>\n",
       "      <td>0.284884</td>\n",
       "      <td>0.087209</td>\n",
       "      <td>0.071705</td>\n",
       "      <td>0.158915</td>\n",
       "      <td>1.0</td>\n",
       "      <td>0.527132</td>\n",
       "      <td>0.164729</td>\n",
       "      <td>0.015504</td>\n",
       "      <td>0.032946</td>\n",
       "      <td>0.017442</td>\n",
       "    </tr>\n",
       "    <tr>\n",
       "      <th>std</th>\n",
       "      <td>44653.524692</td>\n",
       "      <td>48356.641265</td>\n",
       "      <td>46006.577181</td>\n",
       "      <td>0.168572</td>\n",
       "      <td>0.212253</td>\n",
       "      <td>0.210780</td>\n",
       "      <td>0.185122</td>\n",
       "      <td>0.156650</td>\n",
       "      <td>0.110043</td>\n",
       "      <td>0.101622</td>\n",
       "      <td>...</td>\n",
       "      <td>0.451797</td>\n",
       "      <td>0.282415</td>\n",
       "      <td>0.258250</td>\n",
       "      <td>0.365951</td>\n",
       "      <td>0.0</td>\n",
       "      <td>0.499748</td>\n",
       "      <td>0.371295</td>\n",
       "      <td>0.123665</td>\n",
       "      <td>0.178668</td>\n",
       "      <td>0.131038</td>\n",
       "    </tr>\n",
       "    <tr>\n",
       "      <th>min</th>\n",
       "      <td>32500.000000</td>\n",
       "      <td>34320.000000</td>\n",
       "      <td>33410.000000</td>\n",
       "      <td>0.000000</td>\n",
       "      <td>0.000000</td>\n",
       "      <td>0.000000</td>\n",
       "      <td>0.000000</td>\n",
       "      <td>0.000000</td>\n",
       "      <td>0.000000</td>\n",
       "      <td>0.000000</td>\n",
       "      <td>...</td>\n",
       "      <td>0.000000</td>\n",
       "      <td>0.000000</td>\n",
       "      <td>0.000000</td>\n",
       "      <td>0.000000</td>\n",
       "      <td>1.0</td>\n",
       "      <td>0.000000</td>\n",
       "      <td>0.000000</td>\n",
       "      <td>0.000000</td>\n",
       "      <td>0.000000</td>\n",
       "      <td>0.000000</td>\n",
       "    </tr>\n",
       "    <tr>\n",
       "      <th>25%</th>\n",
       "      <td>76181.250000</td>\n",
       "      <td>90000.000000</td>\n",
       "      <td>83127.250000</td>\n",
       "      <td>0.000000</td>\n",
       "      <td>0.000000</td>\n",
       "      <td>0.000000</td>\n",
       "      <td>0.000000</td>\n",
       "      <td>0.000000</td>\n",
       "      <td>0.000000</td>\n",
       "      <td>0.000000</td>\n",
       "      <td>...</td>\n",
       "      <td>0.000000</td>\n",
       "      <td>0.000000</td>\n",
       "      <td>0.000000</td>\n",
       "      <td>0.000000</td>\n",
       "      <td>1.0</td>\n",
       "      <td>0.000000</td>\n",
       "      <td>0.000000</td>\n",
       "      <td>0.000000</td>\n",
       "      <td>0.000000</td>\n",
       "      <td>0.000000</td>\n",
       "    </tr>\n",
       "    <tr>\n",
       "      <th>50%</th>\n",
       "      <td>95275.000000</td>\n",
       "      <td>110000.000000</td>\n",
       "      <td>103033.500000</td>\n",
       "      <td>0.129272</td>\n",
       "      <td>0.000000</td>\n",
       "      <td>0.000000</td>\n",
       "      <td>0.000000</td>\n",
       "      <td>0.000000</td>\n",
       "      <td>0.000000</td>\n",
       "      <td>0.000000</td>\n",
       "      <td>...</td>\n",
       "      <td>0.000000</td>\n",
       "      <td>0.000000</td>\n",
       "      <td>0.000000</td>\n",
       "      <td>0.000000</td>\n",
       "      <td>1.0</td>\n",
       "      <td>1.000000</td>\n",
       "      <td>0.000000</td>\n",
       "      <td>0.000000</td>\n",
       "      <td>0.000000</td>\n",
       "      <td>0.000000</td>\n",
       "    </tr>\n",
       "    <tr>\n",
       "      <th>75%</th>\n",
       "      <td>120000.000000</td>\n",
       "      <td>140000.000000</td>\n",
       "      <td>127980.500000</td>\n",
       "      <td>0.230883</td>\n",
       "      <td>0.216634</td>\n",
       "      <td>0.000000</td>\n",
       "      <td>0.000000</td>\n",
       "      <td>0.000000</td>\n",
       "      <td>0.000000</td>\n",
       "      <td>0.000000</td>\n",
       "      <td>...</td>\n",
       "      <td>1.000000</td>\n",
       "      <td>0.000000</td>\n",
       "      <td>0.000000</td>\n",
       "      <td>0.000000</td>\n",
       "      <td>1.0</td>\n",
       "      <td>1.000000</td>\n",
       "      <td>0.000000</td>\n",
       "      <td>0.000000</td>\n",
       "      <td>0.000000</td>\n",
       "      <td>0.000000</td>\n",
       "    </tr>\n",
       "    <tr>\n",
       "      <th>max</th>\n",
       "      <td>260000.000000</td>\n",
       "      <td>312000.000000</td>\n",
       "      <td>280800.000000</td>\n",
       "      <td>1.000000</td>\n",
       "      <td>0.807632</td>\n",
       "      <td>1.000000</td>\n",
       "      <td>0.882079</td>\n",
       "      <td>0.883968</td>\n",
       "      <td>0.865773</td>\n",
       "      <td>0.634374</td>\n",
       "      <td>...</td>\n",
       "      <td>1.000000</td>\n",
       "      <td>1.000000</td>\n",
       "      <td>1.000000</td>\n",
       "      <td>1.000000</td>\n",
       "      <td>1.0</td>\n",
       "      <td>1.000000</td>\n",
       "      <td>1.000000</td>\n",
       "      <td>1.000000</td>\n",
       "      <td>1.000000</td>\n",
       "      <td>1.000000</td>\n",
       "    </tr>\n",
       "  </tbody>\n",
       "</table>\n",
       "<p>8 rows × 1039 columns</p>\n",
       "</div>"
      ],
      "text/plain": [
       "          Low_Salary      Hi_Salary    Salary_mean  Job_Title_analyst  \\\n",
       "count     104.000000     104.000000     104.000000         516.000000   \n",
       "mean   103733.163462  117485.653846  110609.408654           0.141564   \n",
       "std     44653.524692   48356.641265   46006.577181           0.168572   \n",
       "min     32500.000000   34320.000000   33410.000000           0.000000   \n",
       "25%     76181.250000   90000.000000   83127.250000           0.000000   \n",
       "50%     95275.000000  110000.000000  103033.500000           0.129272   \n",
       "75%    120000.000000  140000.000000  127980.500000           0.230883   \n",
       "max    260000.000000  312000.000000  280800.000000           1.000000   \n",
       "\n",
       "       Job_Title_data  Job_Title_scientist  Job_Title_business  \\\n",
       "count      516.000000           516.000000          516.000000   \n",
       "mean         0.120068             0.079421            0.065005   \n",
       "std          0.212253             0.210780            0.185122   \n",
       "min          0.000000             0.000000            0.000000   \n",
       "25%          0.000000             0.000000            0.000000   \n",
       "50%          0.000000             0.000000            0.000000   \n",
       "75%          0.216634             0.000000            0.000000   \n",
       "max          0.807632             1.000000            0.882079   \n",
       "\n",
       "       Job_Title_senior  Job_Title_engineer  Job_Title_manager     ...       \\\n",
       "count        516.000000          516.000000         516.000000     ...        \n",
       "mean           0.054612            0.025813           0.024785     ...        \n",
       "std            0.156650            0.110043           0.101622     ...        \n",
       "min            0.000000            0.000000           0.000000     ...        \n",
       "25%            0.000000            0.000000           0.000000     ...        \n",
       "50%            0.000000            0.000000           0.000000     ...        \n",
       "75%            0.000000            0.000000           0.000000     ...        \n",
       "max            0.883968            0.865773           0.634374     ...        \n",
       "\n",
       "       skill_python  skill_spark  skill_hadoop  skill_tableau  skill_r  \\\n",
       "count    516.000000   516.000000    516.000000     516.000000    516.0   \n",
       "mean       0.284884     0.087209      0.071705       0.158915      1.0   \n",
       "std        0.451797     0.282415      0.258250       0.365951      0.0   \n",
       "min        0.000000     0.000000      0.000000       0.000000      1.0   \n",
       "25%        0.000000     0.000000      0.000000       0.000000      1.0   \n",
       "50%        0.000000     0.000000      0.000000       0.000000      1.0   \n",
       "75%        1.000000     0.000000      0.000000       0.000000      1.0   \n",
       "max        1.000000     1.000000      1.000000       1.000000      1.0   \n",
       "\n",
       "       skill_excel   skill_sas  skill_spss   skill_aws  skill_kafka  \n",
       "count   516.000000  516.000000  516.000000  516.000000   516.000000  \n",
       "mean      0.527132    0.164729    0.015504    0.032946     0.017442  \n",
       "std       0.499748    0.371295    0.123665    0.178668     0.131038  \n",
       "min       0.000000    0.000000    0.000000    0.000000     0.000000  \n",
       "25%       0.000000    0.000000    0.000000    0.000000     0.000000  \n",
       "50%       1.000000    0.000000    0.000000    0.000000     0.000000  \n",
       "75%       1.000000    0.000000    0.000000    0.000000     0.000000  \n",
       "max       1.000000    1.000000    1.000000    1.000000     1.000000  \n",
       "\n",
       "[8 rows x 1039 columns]"
      ]
     },
     "execution_count": 5,
     "metadata": {},
     "output_type": "execute_result"
    }
   ],
   "source": [
    "#Let's begin by looking at the summary statistics\n",
    "jobs.describe()"
   ]
  },
  {
   "cell_type": "markdown",
   "metadata": {},
   "source": [
    "The summary statistics tell us a few things, particularly about salary information. Firstly, that only a minority of our data \n",
    "actually has salary information (90 records out of 441 total). This may be a limitation for our modelling and predictions.\n",
    "\n",
    "However, of the jobs that do list their salary information, a few descriptive statistics of note are apparent. Firstly, the \n",
    "average offered salary range for data science/analytics jobs in Australia is 95216 - 112513, with the average mean salary being 103864. Salary varies over a large range though, with the lowest paid jobs paying only 30680, while the highest amount potentially\n",
    "on offer is 312000."
   ]
  },
  {
   "cell_type": "markdown",
   "metadata": {},
   "source": [
    "### Define Target variable."
   ]
  },
  {
   "cell_type": "code",
   "execution_count": 8,
   "metadata": {},
   "outputs": [
    {
     "data": {
      "text/plain": [
       "(104, 1042)"
      ]
     },
     "execution_count": 8,
     "metadata": {},
     "output_type": "execute_result"
    }
   ],
   "source": [
    "#Before we can look at distributions for the salary data, we need to limit our rows only to those which have values for salary\n",
    "jobs_subset = jobs[jobs.Low_Salary.isnull() == False]\n",
    "jobs_subset.shape"
   ]
  },
  {
   "cell_type": "code",
   "execution_count": 9,
   "metadata": {},
   "outputs": [],
   "source": [
    "#How are the salary variables distributed?\n",
    "def distribution(values, xlabel, title):\n",
    "    fig = plt.figure(figsize=(6,4))\n",
    "    sns.distplot(values, bins = 20,kde=False)\n",
    "    plt.axvline(x=np.mean(values), linestyle='dashed', color='black', alpha=0.8)\n",
    "    plt.axvline(x=np.median(values), linestyle='dashed', color = 'r', alpha=0.8)\n",
    "    plt.ylabel('frequency')\n",
    "    plt.xlabel(xlabel)\n",
    "    plt.title(title)"
   ]
  },
  {
   "cell_type": "code",
   "execution_count": 10,
   "metadata": {},
   "outputs": [
    {
     "data": {
      "image/png": "[encoded data removed]",
      "text/plain": [
       "<Figure size 432x288 with 1 Axes>"
      ]
     },
     "metadata": {},
     "output_type": "display_data"
    }
   ],
   "source": [
    "distribution(jobs_subset['Low_Salary'], 'minimum salary', 'distribution of minimum salary')"
   ]
  },
  {
   "cell_type": "code",
   "execution_count": 11,
   "metadata": {},
   "outputs": [
    {
     "data": {
      "image/png": "[encoded data removed]",
      "text/plain": [
       "<Figure size 432x288 with 1 Axes>"
      ]
     },
     "metadata": {},
     "output_type": "display_data"
    }
   ],
   "source": [
    "distribution(jobs_subset['Hi_Salary'], 'maximum salary', 'distribution of maximum salary')"
   ]
  },
  {
   "cell_type": "code",
   "execution_count": 12,
   "metadata": {},
   "outputs": [
    {
     "data": {
      "image/png": "[encoded data removed]",
      "text/plain": [
       "<Figure size 432x288 with 1 Axes>"
      ]
     },
     "metadata": {},
     "output_type": "display_data"
    }
   ],
   "source": [
    "distribution(jobs_subset['Salary_mean'], 'mean salary', 'distribution of mean salary')"
   ]
  },
  {
   "cell_type": "markdown",
   "metadata": {},
   "source": [
    "Minimum, maximum and mean salary are all somewhat positively skewed. While most of the jobs listed are around the approximately \n",
    "100k average, there are a few that are considerably lower and several that are much higher. The distribution of salaries is also\n",
    "discontinuous, with some gaps where there are no jobs listed in that area. I will attempt linear regression to predict this \n",
    "variable but I may have more success if I bin the salary variable into categories and attempt to classify jobs into these \n",
    "categories.\n",
    "\n",
    "Let's look at some boxplots to get a closer look at these outliers."
   ]
  },
  {
   "cell_type": "code",
   "execution_count": 14,
   "metadata": {},
   "outputs": [
    {
     "data": {
      "text/plain": [
       "Text(0, 0.5, 'annual salary (AUD)')"
      ]
     },
     "execution_count": 14,
     "metadata": {},
     "output_type": "execute_result"
    },
    {
     "data": {
      "image/png": "[encoded data removed]",
      "text/plain": [
       "<Figure size 432x432 with 1 Axes>"
      ]
     },
     "metadata": {},
     "output_type": "display_data"
    }
   ],
   "source": [
    "fig = plt.figure(figsize=(6,6))\n",
    "sns.boxplot(data=jobs_subset[['Low_Salary','Hi_Salary','Salary_mean']],orient='v', linewidth=3)\n",
    "plt.ylabel('annual salary (AUD)')"
   ]
  },
  {
   "cell_type": "markdown",
   "metadata": {},
   "source": [
    "The upper range of salaries has more extreme outliers than the other two variables, which makes sense. It's possible that higher-paid jobs have a wider pay range over. I will be considering Mean Salary for the rest of part."
   ]
  },
  {
   "cell_type": "markdown",
   "metadata": {},
   "source": [
    "#### Correlations - Heat Map"
   ]
  },
  {
   "cell_type": "code",
   "execution_count": 15,
   "metadata": {},
   "outputs": [
    {
     "data": {
      "text/plain": [
       "<matplotlib.axes._subplots.AxesSubplot at 0x1daee4d9128>"
      ]
     },
     "execution_count": 15,
     "metadata": {},
     "output_type": "execute_result"
    },
    {
     "data": {
      "image/png": "[encoded data removed]",
      "text/plain": [
       "<Figure size 1440x1080 with 2 Axes>"
      ]
     },
     "metadata": {},
     "output_type": "display_data"
    }
   ],
   "source": [
    "fig = plt.figure(figsize=(20,15))\n",
    "#Calculate a correlation matrix for the numerical variables\n",
    "correlations = jobs_subset.iloc[:,3:100].corr()\n",
    "# Generate a mask for the upper triangle\n",
    "mask = np.zeros_like(correlations, dtype=np.bool)\n",
    "mask[np.triu_indices_from(mask)] = True\n",
    "#Make the heatmap\n",
    "sns.heatmap(correlations, mask = mask, vmin=-1, linewidths=.5, vmax=1, cmap='seismic',cbar_kws={\"shrink\": .5})"
   ]
  },
  {
   "cell_type": "markdown",
   "metadata": {},
   "source": [
    "### OBSV :\n",
    "\n",
    "- Firstly, the states negatively correlate with one another, which is to be expected given that a job is listed in one state only and so these values are mutually exclusive. \n",
    "\n",
    "- The salary variables are all strongly collinear, this is also to be expected and will not be an issue as I'll only be using the salary_mean column as a target variable."
   ]
  },
  {
   "cell_type": "markdown",
   "metadata": {},
   "source": [
    "### Modelling"
   ]
  },
  {
   "cell_type": "markdown",
   "metadata": {},
   "source": [
    "What keywords in the job title and job summary predict salary? Does the location affect salary? I will first attempt to construct\n",
    "a linear model to predict mean salary from these variables."
   ]
  },
  {
   "cell_type": "markdown",
   "metadata": {},
   "source": [
    "### Define predictor matrix and target variable"
   ]
  },
  {
   "cell_type": "code",
   "execution_count": 17,
   "metadata": {},
   "outputs": [],
   "source": [
    "#We'll start by defining a predictor matrix\n",
    "X = jobs_subset.iloc[:,7:]\n",
    "#Dropping the columns we found above to be collinear\n",
    "dropcols = ['kw_machin','kw_environment']\n",
    "X.drop(dropcols,axis=1,inplace=True)"
   ]
  },
  {
   "cell_type": "code",
   "execution_count": 18,
   "metadata": {},
   "outputs": [],
   "source": [
    "#And the target variable\n",
    "y = jobs_subset['Salary_mean']"
   ]
  },
  {
   "cell_type": "code",
   "execution_count": 19,
   "metadata": {},
   "outputs": [],
   "source": [
    "#Now do a train-test split, leaving 1/3rd of the data in the test set\n",
    "X_train, X_test, y_train, y_test = train_test_split(X, y, test_size=0.5, random_state=11)"
   ]
  },
  {
   "cell_type": "code",
   "execution_count": 20,
   "metadata": {},
   "outputs": [
    {
     "name": "stderr",
     "output_type": "stream",
     "text": [
      "D:\\ANACONDA\\lib\\site-packages\\sklearn\\preprocessing\\data.py:617: DataConversionWarning: Data with input dtype int64, float64 were all converted to float64 by StandardScaler.\n",
      "  return self.partial_fit(X, y)\n",
      "D:\\ANACONDA\\lib\\site-packages\\sklearn\\base.py:462: DataConversionWarning: Data with input dtype int64, float64 were all converted to float64 by StandardScaler.\n",
      "  return self.fit(X, **fit_params).transform(X)\n",
      "D:\\ANACONDA\\lib\\site-packages\\ipykernel_launcher.py:4: DataConversionWarning: Data with input dtype int64, float64 were all converted to float64 by StandardScaler.\n",
      "  after removing the cwd from sys.path.\n"
     ]
    }
   ],
   "source": [
    "#Standardize the predictors\n",
    "ss = StandardScaler()\n",
    "Xs_train = ss.fit_transform(X_train)\n",
    "Xs_test = ss.transform(X_test)"
   ]
  },
  {
   "cell_type": "markdown",
   "metadata": {},
   "source": [
    " ### Model 1 : Linear regression :"
   ]
  },
  {
   "cell_type": "markdown",
   "metadata": {},
   "source": [
    "I want to see how the model would do with linear regression model before using regularization."
   ]
  },
  {
   "cell_type": "code",
   "execution_count": 21,
   "metadata": {},
   "outputs": [
    {
     "data": {
      "text/plain": [
       "LinearRegression(copy_X=True, fit_intercept=True, n_jobs=None,\n",
       "         normalize=False)"
      ]
     },
     "execution_count": 21,
     "metadata": {},
     "output_type": "execute_result"
    }
   ],
   "source": [
    "#Fit the training data to a linear regression\n",
    "lr = LinearRegression()\n",
    "lr.fit(Xs_train, y_train)"
   ]
  },
  {
   "cell_type": "code",
   "execution_count": 22,
   "metadata": {},
   "outputs": [],
   "source": [
    "#Define a function to get the r2 score for a given model and dataset\n",
    "def get_r2(model,X,y):\n",
    "    predictions = model.predict(X)\n",
    "    r2 = r2_score(y, predictions)\n",
    "    return r2"
   ]
  },
  {
   "cell_type": "code",
   "execution_count": 23,
   "metadata": {},
   "outputs": [
    {
     "data": {
      "text/plain": [
       "1.0"
      ]
     },
     "execution_count": 23,
     "metadata": {},
     "output_type": "execute_result"
    }
   ],
   "source": [
    "#How good is the fit on the training data?\n",
    "get_r2(lr, Xs_train, y_train)"
   ]
  },
  {
   "cell_type": "code",
   "execution_count": 24,
   "metadata": {},
   "outputs": [
    {
     "data": {
      "text/plain": [
       "0.01359980491584245"
      ]
     },
     "execution_count": 24,
     "metadata": {},
     "output_type": "execute_result"
    }
   ],
   "source": [
    "#Evaluate the model on test data\n",
    "get_r2(lr, Xs_test, y_test)"
   ]
  },
  {
   "cell_type": "markdown",
   "metadata": {},
   "source": [
    "OBSV : The score is very poor and the model doesnot serves the purpose."
   ]
  },
  {
   "cell_type": "markdown",
   "metadata": {},
   "source": [
    "### Model 2 : Linear regression with regularization"
   ]
  },
  {
   "cell_type": "code",
   "execution_count": 25,
   "metadata": {},
   "outputs": [
    {
     "name": "stderr",
     "output_type": "stream",
     "text": [
      "D:\\ANACONDA\\lib\\site-packages\\sklearn\\model_selection\\_search.py:841: DeprecationWarning: The default of the `iid` parameter will change from True to False in version 0.22 and will be removed in 0.24. This will change numeric results when test-set sizes are unequal.\n",
      "  DeprecationWarning)\n"
     ]
    },
    {
     "data": {
      "text/plain": [
       "1162.322468679853"
      ]
     },
     "execution_count": 25,
     "metadata": {},
     "output_type": "execute_result"
    }
   ],
   "source": [
    "#Starting with ridge regularization, find the optimal alpha value using CV\n",
    "ridge = RidgeCV(alphas=np.logspace(0,5,200),cv=10)\n",
    "ridge.fit(Xs_train,y_train)\n",
    "bestalpha = ridge.alpha_\n",
    "bestalpha"
   ]
  },
  {
   "cell_type": "markdown",
   "metadata": {},
   "source": [
    "### Model 3 :Ridge Regularization method"
   ]
  },
  {
   "cell_type": "code",
   "execution_count": 26,
   "metadata": {},
   "outputs": [
    {
     "data": {
      "text/plain": [
       "Ridge(alpha=1162.322468679853, copy_X=True, fit_intercept=True, max_iter=None,\n",
       "   normalize=False, random_state=None, solver='auto', tol=0.001)"
      ]
     },
     "execution_count": 26,
     "metadata": {},
     "output_type": "execute_result"
    }
   ],
   "source": [
    "optimalridge = Ridge(alpha = bestalpha)\n",
    "optimalridge.fit(Xs_train,y_train)"
   ]
  },
  {
   "cell_type": "code",
   "execution_count": 27,
   "metadata": {},
   "outputs": [
    {
     "data": {
      "text/plain": [
       "0.6643662534272706"
      ]
     },
     "execution_count": 27,
     "metadata": {},
     "output_type": "execute_result"
    }
   ],
   "source": [
    "#Training r2\n",
    "get_r2(optimalridge, Xs_train, y_train)"
   ]
  },
  {
   "cell_type": "code",
   "execution_count": 28,
   "metadata": {},
   "outputs": [
    {
     "data": {
      "text/plain": [
       "0.03565589614194431"
      ]
     },
     "execution_count": 28,
     "metadata": {},
     "output_type": "execute_result"
    }
   ],
   "source": [
    "#Testing r2\n",
    "get_r2(optimalridge, Xs_test, y_test)"
   ]
  },
  {
   "cell_type": "markdown",
   "metadata": {},
   "source": [
    "OBSV : Ridge regression does not improve the model significantly."
   ]
  },
  {
   "cell_type": "markdown",
   "metadata": {},
   "source": [
    "### Model 4 : Lasso Regularization method"
   ]
  },
  {
   "cell_type": "code",
   "execution_count": 29,
   "metadata": {},
   "outputs": [
    {
     "data": {
      "text/plain": [
       "100000.0"
      ]
     },
     "execution_count": 29,
     "metadata": {},
     "output_type": "execute_result"
    }
   ],
   "source": [
    "#Lasso regularization\n",
    "lasso = LassoCV(alphas=np.logspace(0,5,200), cv=10)\n",
    "lasso.fit(Xs_train, y_train)\n",
    "bestalpha=lasso.alpha_\n",
    "bestalpha"
   ]
  },
  {
   "cell_type": "code",
   "execution_count": 30,
   "metadata": {},
   "outputs": [
    {
     "data": {
      "text/plain": [
       "Lasso(alpha=100000.0, copy_X=True, fit_intercept=True, max_iter=1000,\n",
       "   normalize=False, positive=False, precompute=False, random_state=None,\n",
       "   selection='cyclic', tol=0.0001, warm_start=False)"
      ]
     },
     "execution_count": 30,
     "metadata": {},
     "output_type": "execute_result"
    }
   ],
   "source": [
    "optimallasso = Lasso(alpha = bestalpha)\n",
    "optimallasso.fit(Xs_train, y_train)"
   ]
  },
  {
   "cell_type": "code",
   "execution_count": 31,
   "metadata": {},
   "outputs": [
    {
     "data": {
      "text/plain": [
       "0.0"
      ]
     },
     "execution_count": 31,
     "metadata": {},
     "output_type": "execute_result"
    }
   ],
   "source": [
    "#Training r2\n",
    "get_r2(optimallasso, Xs_train, y_train)"
   ]
  },
  {
   "cell_type": "code",
   "execution_count": 32,
   "metadata": {},
   "outputs": [
    {
     "data": {
      "text/plain": [
       "-0.019712708100408927"
      ]
     },
     "execution_count": 32,
     "metadata": {},
     "output_type": "execute_result"
    }
   ],
   "source": [
    "#Testing r2\n",
    "get_r2(optimallasso, Xs_test, y_test)"
   ]
  },
  {
   "cell_type": "markdown",
   "metadata": {},
   "source": [
    "OBSV: Lasso regression is not doing well either. Perhaps other approaches to feature elimination are needed."
   ]
  },
  {
   "cell_type": "markdown",
   "metadata": {},
   "source": [
    "### Conclusion : Linear Regression model with or without regularization methods doesnot perform well and would use other feature-selection and other Classification techniques."
   ]
  },
  {
   "cell_type": "markdown",
   "metadata": {},
   "source": [
    "### Feature selection methods :"
   ]
  },
  {
   "cell_type": "markdown",
   "metadata": {},
   "source": [
    "### K-best method."
   ]
  },
  {
   "cell_type": "code",
   "execution_count": 33,
   "metadata": {},
   "outputs": [
    {
     "name": "stderr",
     "output_type": "stream",
     "text": [
      "D:\\ANACONDA\\lib\\site-packages\\sklearn\\feature_selection\\univariate_selection.py:299: RuntimeWarning: invalid value encountered in true_divide\n",
      "  corr /= X_norms\n",
      "D:\\ANACONDA\\lib\\site-packages\\scipy\\stats\\_distn_infrastructure.py:879: RuntimeWarning: invalid value encountered in greater\n",
      "  return (self.a < x) & (x < self.b)\n",
      "D:\\ANACONDA\\lib\\site-packages\\scipy\\stats\\_distn_infrastructure.py:879: RuntimeWarning: invalid value encountered in less\n",
      "  return (self.a < x) & (x < self.b)\n",
      "D:\\ANACONDA\\lib\\site-packages\\scipy\\stats\\_distn_infrastructure.py:1821: RuntimeWarning: invalid value encountered in less_equal\n",
      "  cond2 = cond0 & (x <= self.a)\n"
     ]
    },
    {
     "data": {
      "text/plain": [
       "SelectKBest(k=10, score_func=<function f_regression at 0x000001DAEDC00D08>)"
      ]
     },
     "execution_count": 33,
     "metadata": {},
     "output_type": "execute_result"
    }
   ],
   "source": [
    "#Start with select k-best\n",
    "select_f = SelectKBest(f_regression, k=10)\n",
    "select_f.fit(Xs_train, y_train)"
   ]
  },
  {
   "cell_type": "code",
   "execution_count": 34,
   "metadata": {},
   "outputs": [],
   "source": [
    "kbest = pd.DataFrame({'feature':list(X_train.columns), 'f_regression score':list(select_f.scores_)})"
   ]
  },
  {
   "cell_type": "code",
   "execution_count": 35,
   "metadata": {},
   "outputs": [
    {
     "data": {
      "text/html": [
       "<div>\n",
       "<style scoped>\n",
       "    .dataframe tbody tr th:only-of-type {\n",
       "        vertical-align: middle;\n",
       "    }\n",
       "\n",
       "    .dataframe tbody tr th {\n",
       "        vertical-align: top;\n",
       "    }\n",
       "\n",
       "    .dataframe thead th {\n",
       "        text-align: right;\n",
       "    }\n",
       "</style>\n",
       "<table border=\"1\" class=\"dataframe\">\n",
       "  <thead>\n",
       "    <tr style=\"text-align: right;\">\n",
       "      <th></th>\n",
       "      <th>feature</th>\n",
       "      <th>f_regression score</th>\n",
       "    </tr>\n",
       "  </thead>\n",
       "  <tbody>\n",
       "    <tr>\n",
       "      <th>823</th>\n",
       "      <td>kw_readi</td>\n",
       "      <td>18.887309</td>\n",
       "    </tr>\n",
       "    <tr>\n",
       "      <th>61</th>\n",
       "      <td>kw_deliv</td>\n",
       "      <td>12.916108</td>\n",
       "    </tr>\n",
       "    <tr>\n",
       "      <th>789</th>\n",
       "      <td>kw_solution</td>\n",
       "      <td>11.913808</td>\n",
       "    </tr>\n",
       "    <tr>\n",
       "      <th>538</th>\n",
       "      <td>kw_proactiv</td>\n",
       "      <td>11.308192</td>\n",
       "    </tr>\n",
       "    <tr>\n",
       "      <th>147</th>\n",
       "      <td>kw_plan</td>\n",
       "      <td>10.599414</td>\n",
       "    </tr>\n",
       "    <tr>\n",
       "      <th>541</th>\n",
       "      <td>kw_subject</td>\n",
       "      <td>10.376605</td>\n",
       "    </tr>\n",
       "    <tr>\n",
       "      <th>510</th>\n",
       "      <td>kw_particip</td>\n",
       "      <td>10.112144</td>\n",
       "    </tr>\n",
       "    <tr>\n",
       "      <th>655</th>\n",
       "      <td>kw_adapt</td>\n",
       "      <td>9.352323</td>\n",
       "    </tr>\n",
       "    <tr>\n",
       "      <th>152</th>\n",
       "      <td>kw_present</td>\n",
       "      <td>9.040868</td>\n",
       "    </tr>\n",
       "    <tr>\n",
       "      <th>235</th>\n",
       "      <td>kw_tableau</td>\n",
       "      <td>8.937434</td>\n",
       "    </tr>\n",
       "    <tr>\n",
       "      <th>405</th>\n",
       "      <td>kw_migrat</td>\n",
       "      <td>8.633820</td>\n",
       "    </tr>\n",
       "    <tr>\n",
       "      <th>14</th>\n",
       "      <td>Job_Title_finance</td>\n",
       "      <td>8.141906</td>\n",
       "    </tr>\n",
       "    <tr>\n",
       "      <th>388</th>\n",
       "      <td>kw_perman</td>\n",
       "      <td>7.690262</td>\n",
       "    </tr>\n",
       "    <tr>\n",
       "      <th>958</th>\n",
       "      <td>kw_aborigin</td>\n",
       "      <td>7.498601</td>\n",
       "    </tr>\n",
       "    <tr>\n",
       "      <th>775</th>\n",
       "      <td>kw_paid</td>\n",
       "      <td>7.498601</td>\n",
       "    </tr>\n",
       "    <tr>\n",
       "      <th>772</th>\n",
       "      <td>kw_broad</td>\n",
       "      <td>7.498601</td>\n",
       "    </tr>\n",
       "    <tr>\n",
       "      <th>308</th>\n",
       "      <td>kw_clients</td>\n",
       "      <td>7.349746</td>\n",
       "    </tr>\n",
       "    <tr>\n",
       "      <th>56</th>\n",
       "      <td>kw_communic</td>\n",
       "      <td>7.270213</td>\n",
       "    </tr>\n",
       "    <tr>\n",
       "      <th>113</th>\n",
       "      <td>kw_intern</td>\n",
       "      <td>7.175758</td>\n",
       "    </tr>\n",
       "    <tr>\n",
       "      <th>551</th>\n",
       "      <td>kw_essenti</td>\n",
       "      <td>6.763602</td>\n",
       "    </tr>\n",
       "    <tr>\n",
       "      <th>268</th>\n",
       "      <td>kw_achiev</td>\n",
       "      <td>6.698165</td>\n",
       "    </tr>\n",
       "    <tr>\n",
       "      <th>307</th>\n",
       "      <td>kw_involv</td>\n",
       "      <td>6.603870</td>\n",
       "    </tr>\n",
       "    <tr>\n",
       "      <th>1017</th>\n",
       "      <td>kw_environmentstrong</td>\n",
       "      <td>6.556561</td>\n",
       "    </tr>\n",
       "    <tr>\n",
       "      <th>296</th>\n",
       "      <td>kw_benefit</td>\n",
       "      <td>6.351217</td>\n",
       "    </tr>\n",
       "    <tr>\n",
       "      <th>284</th>\n",
       "      <td>kw_sas</td>\n",
       "      <td>6.216964</td>\n",
       "    </tr>\n",
       "    <tr>\n",
       "      <th>502</th>\n",
       "      <td>kw_valid</td>\n",
       "      <td>6.188953</td>\n",
       "    </tr>\n",
       "    <tr>\n",
       "      <th>1</th>\n",
       "      <td>Job_Title_scientist</td>\n",
       "      <td>6.036358</td>\n",
       "    </tr>\n",
       "    <tr>\n",
       "      <th>344</th>\n",
       "      <td>kw_accept</td>\n",
       "      <td>5.904366</td>\n",
       "    </tr>\n",
       "    <tr>\n",
       "      <th>43</th>\n",
       "      <td>kw_provid</td>\n",
       "      <td>5.644888</td>\n",
       "    </tr>\n",
       "    <tr>\n",
       "      <th>490</th>\n",
       "      <td>kw_possess</td>\n",
       "      <td>5.618477</td>\n",
       "    </tr>\n",
       "    <tr>\n",
       "      <th>501</th>\n",
       "      <td>kw_expand</td>\n",
       "      <td>5.439175</td>\n",
       "    </tr>\n",
       "    <tr>\n",
       "      <th>944</th>\n",
       "      <td>kw_including</td>\n",
       "      <td>5.376087</td>\n",
       "    </tr>\n",
       "    <tr>\n",
       "      <th>480</th>\n",
       "      <td>kw_matter</td>\n",
       "      <td>5.188967</td>\n",
       "    </tr>\n",
       "    <tr>\n",
       "      <th>48</th>\n",
       "      <td>kw_solut</td>\n",
       "      <td>5.011371</td>\n",
       "    </tr>\n",
       "    <tr>\n",
       "      <th>350</th>\n",
       "      <td>kw_exposur</td>\n",
       "      <td>4.926385</td>\n",
       "    </tr>\n",
       "    <tr>\n",
       "      <th>857</th>\n",
       "      <td>kw_endtoend</td>\n",
       "      <td>4.836969</td>\n",
       "    </tr>\n",
       "    <tr>\n",
       "      <th>2</th>\n",
       "      <td>Job_Title_business</td>\n",
       "      <td>4.735108</td>\n",
       "    </tr>\n",
       "    <tr>\n",
       "      <th>176</th>\n",
       "      <td>kw_proven</td>\n",
       "      <td>4.700486</td>\n",
       "    </tr>\n",
       "    <tr>\n",
       "      <th>60</th>\n",
       "      <td>kw_success</td>\n",
       "      <td>4.664985</td>\n",
       "    </tr>\n",
       "    <tr>\n",
       "      <th>289</th>\n",
       "      <td>kw_domain</td>\n",
       "      <td>4.633271</td>\n",
       "    </tr>\n",
       "    <tr>\n",
       "      <th>1026</th>\n",
       "      <td>skill_tableau</td>\n",
       "      <td>4.597031</td>\n",
       "    </tr>\n",
       "    <tr>\n",
       "      <th>548</th>\n",
       "      <td>kw_align</td>\n",
       "      <td>4.576450</td>\n",
       "    </tr>\n",
       "    <tr>\n",
       "      <th>187</th>\n",
       "      <td>kw_experienc</td>\n",
       "      <td>4.484996</td>\n",
       "    </tr>\n",
       "    <tr>\n",
       "      <th>628</th>\n",
       "      <td>kw_volum</td>\n",
       "      <td>4.476854</td>\n",
       "    </tr>\n",
       "    <tr>\n",
       "      <th>612</th>\n",
       "      <td>kw_criteria</td>\n",
       "      <td>4.373491</td>\n",
       "    </tr>\n",
       "    <tr>\n",
       "      <th>408</th>\n",
       "      <td>kw_concept</td>\n",
       "      <td>4.329936</td>\n",
       "    </tr>\n",
       "    <tr>\n",
       "      <th>214</th>\n",
       "      <td>kw_various</td>\n",
       "      <td>4.322018</td>\n",
       "    </tr>\n",
       "    <tr>\n",
       "      <th>817</th>\n",
       "      <td>kw_dure</td>\n",
       "      <td>4.024994</td>\n",
       "    </tr>\n",
       "    <tr>\n",
       "      <th>75</th>\n",
       "      <td>kw_user</td>\n",
       "      <td>4.015877</td>\n",
       "    </tr>\n",
       "    <tr>\n",
       "      <th>241</th>\n",
       "      <td>kw_required</td>\n",
       "      <td>3.982774</td>\n",
       "    </tr>\n",
       "  </tbody>\n",
       "</table>\n",
       "</div>"
      ],
      "text/plain": [
       "                   feature  f_regression score\n",
       "823               kw_readi           18.887309\n",
       "61                kw_deliv           12.916108\n",
       "789            kw_solution           11.913808\n",
       "538            kw_proactiv           11.308192\n",
       "147                kw_plan           10.599414\n",
       "541             kw_subject           10.376605\n",
       "510            kw_particip           10.112144\n",
       "655               kw_adapt            9.352323\n",
       "152             kw_present            9.040868\n",
       "235             kw_tableau            8.937434\n",
       "405              kw_migrat            8.633820\n",
       "14       Job_Title_finance            8.141906\n",
       "388              kw_perman            7.690262\n",
       "958            kw_aborigin            7.498601\n",
       "775                kw_paid            7.498601\n",
       "772               kw_broad            7.498601\n",
       "308             kw_clients            7.349746\n",
       "56             kw_communic            7.270213\n",
       "113              kw_intern            7.175758\n",
       "551             kw_essenti            6.763602\n",
       "268              kw_achiev            6.698165\n",
       "307              kw_involv            6.603870\n",
       "1017  kw_environmentstrong            6.556561\n",
       "296             kw_benefit            6.351217\n",
       "284                 kw_sas            6.216964\n",
       "502               kw_valid            6.188953\n",
       "1      Job_Title_scientist            6.036358\n",
       "344              kw_accept            5.904366\n",
       "43               kw_provid            5.644888\n",
       "490             kw_possess            5.618477\n",
       "501              kw_expand            5.439175\n",
       "944           kw_including            5.376087\n",
       "480              kw_matter            5.188967\n",
       "48                kw_solut            5.011371\n",
       "350             kw_exposur            4.926385\n",
       "857            kw_endtoend            4.836969\n",
       "2       Job_Title_business            4.735108\n",
       "176              kw_proven            4.700486\n",
       "60              kw_success            4.664985\n",
       "289              kw_domain            4.633271\n",
       "1026         skill_tableau            4.597031\n",
       "548               kw_align            4.576450\n",
       "187           kw_experienc            4.484996\n",
       "628               kw_volum            4.476854\n",
       "612            kw_criteria            4.373491\n",
       "408             kw_concept            4.329936\n",
       "214             kw_various            4.322018\n",
       "817                kw_dure            4.024994\n",
       "75                 kw_user            4.015877\n",
       "241            kw_required            3.982774"
      ]
     },
     "execution_count": 35,
     "metadata": {},
     "output_type": "execute_result"
    }
   ],
   "source": [
    "#What are the highest ranked features for select k best?\n",
    "kbesttop30 = kbest.sort_values('f_regression score', ascending=False).head(50)\n",
    "#kbesttop30 = kbesttop30[kbesttop30['f_classif score'] != inf]\n",
    "kbesttop30"
   ]
  },
  {
   "cell_type": "markdown",
   "metadata": {},
   "source": [
    "OBSV : Getting a lot of infinite values using select k best, perhaps RFECV will be a better approach."
   ]
  },
  {
   "cell_type": "markdown",
   "metadata": {},
   "source": [
    "### RFECV Method :"
   ]
  },
  {
   "cell_type": "code",
   "execution_count": 36,
   "metadata": {},
   "outputs": [],
   "source": [
    "#Now try RFECV\n",
    "lr = LinearRegression()\n",
    "selector = RFECV(lr, step=0.5, cv=10)\n",
    "selector.fit(Xs_train, y_train)\n",
    "\n",
    "rfe = pd.DataFrame({'feature':list(X_train.columns),'ranking':list(selector.ranking_),'support':list(selector.support_)})"
   ]
  },
  {
   "cell_type": "code",
   "execution_count": 37,
   "metadata": {},
   "outputs": [],
   "source": [
    "#We'll also look at the top 10 ranked features for rfe\n",
    "rfetop30 = rfe.sort_values('ranking',ascending=True).head(30)"
   ]
  },
  {
   "cell_type": "code",
   "execution_count": 38,
   "metadata": {},
   "outputs": [
    {
     "data": {
      "text/plain": [
       "1"
      ]
     },
     "execution_count": 38,
     "metadata": {},
     "output_type": "execute_result"
    }
   ],
   "source": [
    "#Let's use the features supported by RFECV\n",
    "rfesupported = rfe[rfe['support']==True]\n",
    "len(rfesupported)"
   ]
  },
  {
   "cell_type": "code",
   "execution_count": 39,
   "metadata": {},
   "outputs": [
    {
     "name": "stdout",
     "output_type": "stream",
     "text": [
      "['kw_environmentstrong']\n"
     ]
    }
   ],
   "source": [
    "#We could also select features that appear in both lists\n",
    "combined_features = list(set(kbesttop30.feature).intersection(rfesupported.feature))\n",
    "print(combined_features)"
   ]
  },
  {
   "cell_type": "markdown",
   "metadata": {},
   "source": [
    "### Model 5 : Re-try linear modelling after feature elimination"
   ]
  },
  {
   "cell_type": "code",
   "execution_count": 40,
   "metadata": {},
   "outputs": [],
   "source": [
    "#Define new predictor matrix\n",
    "Xsub = X[rfesupported.feature]\n",
    "#Xsub = X[combined_features]\n",
    "#Xsub = X[kbesttop30.feature]\n",
    "\n",
    "#I did a lot of trial and error here to decide which set of selected features to use, in the end using the features supported\n",
    "#by RFECV only yielded the best results."
   ]
  },
  {
   "cell_type": "code",
   "execution_count": 41,
   "metadata": {},
   "outputs": [],
   "source": [
    "#New test/train split\n",
    "Xsub_train, Xsub_test, y_train, y_test = train_test_split(Xsub, y, test_size=0.5, random_state=11)"
   ]
  },
  {
   "cell_type": "code",
   "execution_count": 42,
   "metadata": {},
   "outputs": [],
   "source": [
    "#Standardize new predictors\n",
    "ss = StandardScaler()\n",
    "Xsub_train = ss.fit_transform(Xsub_train)\n",
    "Xsub_test = ss.transform(Xsub_test)"
   ]
  },
  {
   "cell_type": "code",
   "execution_count": 43,
   "metadata": {},
   "outputs": [
    {
     "data": {
      "text/plain": [
       "LinearRegression(copy_X=True, fit_intercept=True, n_jobs=None,\n",
       "         normalize=False)"
      ]
     },
     "execution_count": 43,
     "metadata": {},
     "output_type": "execute_result"
    }
   ],
   "source": [
    "#Fit on a linear regression model again\n",
    "lr = LinearRegression()\n",
    "lr.fit(Xsub_train, y_train)"
   ]
  },
  {
   "cell_type": "code",
   "execution_count": 44,
   "metadata": {},
   "outputs": [
    {
     "data": {
      "text/plain": [
       "0.11592927479201032"
      ]
     },
     "execution_count": 44,
     "metadata": {},
     "output_type": "execute_result"
    }
   ],
   "source": [
    "#Training r2\n",
    "get_r2(lr, Xsub_train, y_train)"
   ]
  },
  {
   "cell_type": "code",
   "execution_count": 45,
   "metadata": {},
   "outputs": [
    {
     "data": {
      "text/plain": [
       "-0.241646076026242"
      ]
     },
     "execution_count": 45,
     "metadata": {},
     "output_type": "execute_result"
    }
   ],
   "source": [
    "#Test r2\n",
    "get_r2(lr, Xsub_test, y_test)"
   ]
  },
  {
   "cell_type": "markdown",
   "metadata": {},
   "source": [
    "OBSV : Still over-fitted to the training data and maybe if we combine this smaller predictor matrix with regularization we can improve the\n",
    "test score."
   ]
  },
  {
   "cell_type": "markdown",
   "metadata": {},
   "source": [
    "### Model 6 : Linear Regression with Ridge regularization"
   ]
  },
  {
   "cell_type": "code",
   "execution_count": 46,
   "metadata": {},
   "outputs": [
    {
     "name": "stderr",
     "output_type": "stream",
     "text": [
      "D:\\ANACONDA\\lib\\site-packages\\sklearn\\model_selection\\_search.py:841: DeprecationWarning: The default of the `iid` parameter will change from True to False in version 0.22 and will be removed in 0.24. This will change numeric results when test-set sizes are unequal.\n",
      "  DeprecationWarning)\n"
     ]
    },
    {
     "data": {
      "text/plain": [
       "Ridge(alpha=1.0, copy_X=True, fit_intercept=True, max_iter=None,\n",
       "   normalize=False, random_state=None, solver='auto', tol=0.001)"
      ]
     },
     "execution_count": 46,
     "metadata": {},
     "output_type": "execute_result"
    }
   ],
   "source": [
    "ridge = RidgeCV(alphas=np.logspace(0,5,200),cv=10)\n",
    "ridge.fit(Xsub_train,y_train)\n",
    "bestalpha = ridge.alpha_\n",
    "optimalridge = Ridge(alpha = bestalpha)\n",
    "optimalridge.fit(Xsub_train,y_train)"
   ]
  },
  {
   "cell_type": "code",
   "execution_count": 47,
   "metadata": {},
   "outputs": [
    {
     "name": "stdout",
     "output_type": "stream",
     "text": [
      "train r2:  0.11588800413526656\n",
      "test r2:  -0.23283931938758773\n"
     ]
    }
   ],
   "source": [
    "#r2\n",
    "print('train r2: ', get_r2(optimalridge, Xsub_train, y_train))\n",
    "print('test r2: ', get_r2(optimalridge, Xsub_test, y_test))"
   ]
  },
  {
   "cell_type": "markdown",
   "metadata": {},
   "source": [
    "OBSV  Still over-fitting data."
   ]
  },
  {
   "cell_type": "markdown",
   "metadata": {},
   "source": [
    "### Model 7 : Linear Regression with Lasso regularization"
   ]
  },
  {
   "cell_type": "code",
   "execution_count": 48,
   "metadata": {},
   "outputs": [
    {
     "data": {
      "text/plain": [
       "Lasso(alpha=1.0, copy_X=True, fit_intercept=True, max_iter=1000,\n",
       "   normalize=False, positive=False, precompute=False, random_state=None,\n",
       "   selection='cyclic', tol=0.0001, warm_start=False)"
      ]
     },
     "execution_count": 48,
     "metadata": {},
     "output_type": "execute_result"
    }
   ],
   "source": [
    "lasso = LassoCV(alphas=np.logspace(0,5,200), cv=10)\n",
    "lasso.fit(Xsub_train, y_train)\n",
    "bestalpha=lasso.alpha_\n",
    "optimallasso = Lasso(alpha = bestalpha)\n",
    "optimallasso.fit(Xsub_train, y_train)"
   ]
  },
  {
   "cell_type": "code",
   "execution_count": 49,
   "metadata": {},
   "outputs": [
    {
     "name": "stdout",
     "output_type": "stream",
     "text": [
      "train r2:  0.1159292742775554\n",
      "test r2:  -0.2416146700445425\n"
     ]
    }
   ],
   "source": [
    "#r2\n",
    "print('train r2: ', get_r2(optimallasso, Xsub_train, y_train))\n",
    "print('test r2: ', get_r2(optimallasso, Xsub_test, y_test))"
   ]
  },
  {
   "cell_type": "markdown",
   "metadata": {},
   "source": [
    "### Model 8 : Linear Regression with Elastic Net regularization"
   ]
  },
  {
   "cell_type": "code",
   "execution_count": 50,
   "metadata": {},
   "outputs": [
    {
     "data": {
      "text/plain": [
       "ElasticNet(alpha=15.011460284653898, copy_X=True, fit_intercept=True,\n",
       "      l1_ratio=1.0, max_iter=1000, normalize=False, positive=False,\n",
       "      precompute=False, random_state=None, selection='cyclic', tol=0.0001,\n",
       "      warm_start=False)"
      ]
     },
     "execution_count": 50,
     "metadata": {},
     "output_type": "execute_result"
    }
   ],
   "source": [
    "l1_ratios = np.linspace(0.01, 1.0, 25)\n",
    "elasticnet = ElasticNetCV(l1_ratio = l1_ratios,n_alphas = 200, cv=10)\n",
    "elasticnet.fit(Xsub_train,y_train)\n",
    "optimalenet = ElasticNet(alpha = elasticnet.alpha_, l1_ratio = elasticnet.l1_ratio_)\n",
    "optimalenet.fit(Xsub_train, y_train)"
   ]
  },
  {
   "cell_type": "code",
   "execution_count": 51,
   "metadata": {},
   "outputs": [
    {
     "name": "stdout",
     "output_type": "stream",
     "text": [
      "train r2:  0.11592915886273536\n",
      "test r2:  -0.24117485928933502\n"
     ]
    }
   ],
   "source": [
    "#r2\n",
    "print('train r2: ', get_r2(optimalenet, Xsub_train, y_train))\n",
    "print('test r2: ', get_r2(optimalenet,Xsub_test, y_test))"
   ]
  },
  {
   "cell_type": "markdown",
   "metadata": {},
   "source": [
    "CONCLUSION : I would like to conclude even after modeliing with the feature extraction I still get lower R2 score for my test data."
   ]
  },
  {
   "cell_type": "markdown",
   "metadata": {},
   "source": [
    "### Analyzing more on Linear Regression model."
   ]
  },
  {
   "cell_type": "markdown",
   "metadata": {},
   "source": [
    "Some of these issues may be due to violations of the assumptions of linear regression modelling."
   ]
  },
  {
   "cell_type": "code",
   "execution_count": 52,
   "metadata": {},
   "outputs": [],
   "source": [
    "y_hat = optimalenet.predict(Xsub_test)\n",
    "residuals = y_test - y_hat"
   ]
  },
  {
   "cell_type": "code",
   "execution_count": 53,
   "metadata": {},
   "outputs": [
    {
     "name": "stderr",
     "output_type": "stream",
     "text": [
      "D:\\ANACONDA\\lib\\site-packages\\scipy\\stats\\stats.py:1713: FutureWarning: Using a non-tuple sequence for multidimensional indexing is deprecated; use `arr[tuple(seq)]` instead of `arr[seq]`. In the future this will be interpreted as an array index, `arr[np.array(seq)]`, which will result either in an error or a different result.\n",
      "  return np.add.reduce(sorted[indexer] * weights, axis=axis) / sumval\n"
     ]
    },
    {
     "data": {
      "text/plain": [
       "<matplotlib.axes._subplots.AxesSubplot at 0x1daee2ceac8>"
      ]
     },
     "execution_count": 53,
     "metadata": {},
     "output_type": "execute_result"
    },
    {
     "data": {
      "image/png": "[encoded data removed]",
      "text/plain": [
       "<Figure size 432x288 with 1 Axes>"
      ]
     },
     "metadata": {},
     "output_type": "display_data"
    }
   ],
   "source": [
    "#Checking distribution of residuals\n",
    "sns.distplot(residuals, bins=12)"
   ]
  },
  {
   "cell_type": "markdown",
   "metadata": {},
   "source": [
    "The residuals of the target variable are slightly positively skewed but are still reasonably close to a normal distribution."
   ]
  },
  {
   "cell_type": "code",
   "execution_count": 54,
   "metadata": {},
   "outputs": [
    {
     "data": {
      "text/plain": [
       "(52,)"
      ]
     },
     "execution_count": 54,
     "metadata": {},
     "output_type": "execute_result"
    }
   ],
   "source": [
    "residuals.shape"
   ]
  },
  {
   "cell_type": "code",
   "execution_count": 55,
   "metadata": {},
   "outputs": [
    {
     "data": {
      "text/plain": [
       "<matplotlib.axes._subplots.AxesSubplot at 0x1daee75c710>"
      ]
     },
     "execution_count": 55,
     "metadata": {},
     "output_type": "execute_result"
    },
    {
     "data": {
      "image/png": "[encoded data removed]",
      "text/plain": [
       "<Figure size 432x288 with 1 Axes>"
      ]
     },
     "metadata": {},
     "output_type": "display_data"
    }
   ],
   "source": [
    "#Check for homoscedasticity.\n",
    "sns.regplot(residuals, X_test['kw_analysi'], fit_reg=False)"
   ]
  },
  {
   "cell_type": "markdown",
   "metadata": {},
   "source": [
    "Plotting residuals against various predictor variables doesn't show any obvious signs of heteroscedasticity, as there is no clear\n",
    "trend in the residuals as these variables increase. Suggesting the assumptions of linear regression aren't violated.\n",
    "\n",
    "We handled multicollinearity by excluding the variables with the highest correlation above. So it seems that the assumptions of \n",
    "linear regression are not violated here and that this is not the problem with my model."
   ]
  },
  {
   "cell_type": "markdown",
   "metadata": {},
   "source": [
    "While the model is clearly over-fit to the training data, in order to properly evaluate how well it performs in general we need \n",
    "to compare its performance to a dummy regressor model."
   ]
  },
  {
   "cell_type": "code",
   "execution_count": 56,
   "metadata": {},
   "outputs": [],
   "source": [
    "from sklearn.dummy import DummyRegressor"
   ]
  },
  {
   "cell_type": "code",
   "execution_count": 57,
   "metadata": {},
   "outputs": [
    {
     "data": {
      "text/plain": [
       "DummyRegressor(constant=None, quantile=None, strategy='mean')"
      ]
     },
     "execution_count": 57,
     "metadata": {},
     "output_type": "execute_result"
    }
   ],
   "source": [
    "dr = DummyRegressor()\n",
    "dr.fit(Xsub_train, y_train)"
   ]
  },
  {
   "cell_type": "code",
   "execution_count": 58,
   "metadata": {},
   "outputs": [
    {
     "name": "stdout",
     "output_type": "stream",
     "text": [
      "dummy r2:  -0.019712708100408927\n",
      "model r2:  -0.24117485928933502\n"
     ]
    }
   ],
   "source": [
    "print('dummy r2: ', get_r2(dr, Xsub_test, y_test))\n",
    "print('model r2: ', get_r2(optimalenet, Xsub_test, y_test))"
   ]
  },
  {
   "cell_type": "code",
   "execution_count": 59,
   "metadata": {},
   "outputs": [
    {
     "name": "stderr",
     "output_type": "stream",
     "text": [
      "D:\\ANACONDA\\lib\\site-packages\\scipy\\stats\\stats.py:1713: FutureWarning: Using a non-tuple sequence for multidimensional indexing is deprecated; use `arr[tuple(seq)]` instead of `arr[seq]`. In the future this will be interpreted as an array index, `arr[np.array(seq)]`, which will result either in an error or a different result.\n",
      "  return np.add.reduce(sorted[indexer] * weights, axis=axis) / sumval\n"
     ]
    },
    {
     "data": {
      "text/plain": [
       "Text(0, 0.5, 'predicted values')"
      ]
     },
     "execution_count": 59,
     "metadata": {},
     "output_type": "execute_result"
    },
    {
     "data": {
      "image/png": "[encoded data removed]",
      "text/plain": [
       "<Figure size 432x288 with 1 Axes>"
      ]
     },
     "metadata": {},
     "output_type": "display_data"
    }
   ],
   "source": [
    "sns.regplot(y_test, y_hat)\n",
    "plt.xlabel('true values')\n",
    "plt.ylabel('predicted values')"
   ]
  },
  {
   "cell_type": "markdown",
   "metadata": {},
   "source": [
    "In comparison to the dummy regressor, my linear model is performing relatively well, making predictions roughly 40% better than \n",
    "a baseline naive estimate."
   ]
  },
  {
   "cell_type": "markdown",
   "metadata": {},
   "source": [
    "### Modelling -- Classification techniques."
   ]
  },
  {
   "cell_type": "markdown",
   "metadata": {},
   "source": [
    "Regression modelling led to some interesting observations, but I had some doubts about the efficacy of the model. Given the \n",
    "discontinuous distribution of the salary data, is it easier to predict salary if we define three categories: low, medium and high?"
   ]
  },
  {
   "cell_type": "code",
   "execution_count": 68,
   "metadata": {},
   "outputs": [],
   "source": [
    "#Create a function to classify salary as high (2), medium (1) or low (0)\n",
    "def salary_classifier(salary):\n",
    "    if salary > 120000:\n",
    "        c = 2\n",
    "    elif salary > 80000:\n",
    "        c = 1\n",
    "    else:\n",
    "        c = 0\n",
    "    return c"
   ]
  },
  {
   "cell_type": "code",
   "execution_count": 71,
   "metadata": {},
   "outputs": [
    {
     "name": "stderr",
     "output_type": "stream",
     "text": [
      "D:\\ANACONDA\\lib\\site-packages\\ipykernel_launcher.py:2: SettingWithCopyWarning: \n",
      "A value is trying to be set on a copy of a slice from a DataFrame.\n",
      "Try using .loc[row_indexer,col_indexer] = value instead\n",
      "\n",
      "See the caveats in the documentation: http://pandas.pydata.org/pandas-docs/stable/indexing.html#indexing-view-versus-copy\n",
      "  \n"
     ]
    }
   ],
   "source": [
    "#Create a new column by applying this function to the mean salary column\n",
    "jobs_subset['Salary_class'] = jobs_subset['Salary_mean'].apply(salary_classifier)"
   ]
  },
  {
   "cell_type": "code",
   "execution_count": 72,
   "metadata": {},
   "outputs": [
    {
     "data": {
      "text/plain": [
       "1    46\n",
       "2    33\n",
       "0    25\n",
       "Name: Salary_class, dtype: int64"
      ]
     },
     "execution_count": 72,
     "metadata": {},
     "output_type": "execute_result"
    }
   ],
   "source": [
    "#Are the classes balanced?\n",
    "jobs_subset['Salary_class'].value_counts()"
   ]
  },
  {
   "cell_type": "code",
   "execution_count": 74,
   "metadata": {},
   "outputs": [
    {
     "data": {
      "text/plain": [
       "0.4423076923076923"
      ]
     },
     "execution_count": 74,
     "metadata": {},
     "output_type": "execute_result"
    }
   ],
   "source": [
    "#What's the baseline accuracy?\n",
    "baseline = len(jobs_subset[jobs_subset['Salary_class'] == 1]) / len(jobs_subset['Salary_class'])\n",
    "baseline"
   ]
  },
  {
   "cell_type": "markdown",
   "metadata": {},
   "source": [
    "### Defining new variables -- Salary Class"
   ]
  },
  {
   "cell_type": "code",
   "execution_count": 75,
   "metadata": {},
   "outputs": [],
   "source": [
    "#Define new predictor variable\n",
    "y = jobs_subset['Salary_class']"
   ]
  },
  {
   "cell_type": "code",
   "execution_count": 77,
   "metadata": {},
   "outputs": [],
   "source": [
    "#Create train/test split\n",
    "X_train, X_test, y_train, y_test = train_test_split(X, y, test_size = 0.5, random_state = 11, stratify=jobs_subset['Salary_class'])"
   ]
  },
  {
   "cell_type": "code",
   "execution_count": 78,
   "metadata": {},
   "outputs": [
    {
     "name": "stderr",
     "output_type": "stream",
     "text": [
      "D:\\ANACONDA\\lib\\site-packages\\sklearn\\preprocessing\\data.py:617: DataConversionWarning: Data with input dtype int64, float64 were all converted to float64 by StandardScaler.\n",
      "  return self.partial_fit(X, y)\n",
      "D:\\ANACONDA\\lib\\site-packages\\sklearn\\base.py:462: DataConversionWarning: Data with input dtype int64, float64 were all converted to float64 by StandardScaler.\n",
      "  return self.fit(X, **fit_params).transform(X)\n",
      "D:\\ANACONDA\\lib\\site-packages\\ipykernel_launcher.py:4: DataConversionWarning: Data with input dtype int64, float64 were all converted to float64 by StandardScaler.\n",
      "  after removing the cwd from sys.path.\n"
     ]
    }
   ],
   "source": [
    "#Standardise X_train/X_test\n",
    "ss = StandardScaler()\n",
    "X_train = ss.fit_transform(X_train)\n",
    "X_test = ss.transform(X_test)"
   ]
  },
  {
   "cell_type": "markdown",
   "metadata": {},
   "source": [
    "### Model 1 -- KNN "
   ]
  },
  {
   "cell_type": "code",
   "execution_count": 79,
   "metadata": {},
   "outputs": [
    {
     "name": "stderr",
     "output_type": "stream",
     "text": [
      "D:\\ANACONDA\\lib\\site-packages\\sklearn\\model_selection\\_search.py:841: DeprecationWarning: The default of the `iid` parameter will change from True to False in version 0.22 and will be removed in 0.24. This will change numeric results when test-set sizes are unequal.\n",
      "  DeprecationWarning)\n"
     ]
    },
    {
     "data": {
      "text/plain": [
       "GridSearchCV(cv=5, error_score='raise-deprecating',\n",
       "       estimator=KNeighborsClassifier(algorithm='auto', leaf_size=30, metric='minkowski',\n",
       "           metric_params=None, n_jobs=None, n_neighbors=5, p=2,\n",
       "           weights='uniform'),\n",
       "       fit_params=None, iid='warn', n_jobs=None,\n",
       "       param_grid={'n_neighbors': [1, 3, 5, 9, 15, 18, 21, 25], 'weights': ['uniform', 'distance'], 'metric': ['euclidean', 'manhattan']},\n",
       "       pre_dispatch='2*n_jobs', refit=True, return_train_score='warn',\n",
       "       scoring=None, verbose=0)"
      ]
     },
     "execution_count": 79,
     "metadata": {},
     "output_type": "execute_result"
    }
   ],
   "source": [
    "#Conduct a GridSearch to find optimal hyperparameters for KNN\n",
    "knn_params = {'n_neighbors':[1,3,5,9,15,18,21,25],\n",
    "             'weights':['uniform','distance'],\n",
    "             'metric':['euclidean','manhattan']}\n",
    "knn_gs = GridSearchCV(KNeighborsClassifier(), knn_params, cv=5)\n",
    "knn_gs.fit(X_train, y_train)"
   ]
  },
  {
   "cell_type": "code",
   "execution_count": 80,
   "metadata": {},
   "outputs": [
    {
     "name": "stdout",
     "output_type": "stream",
     "text": [
      "{'metric': 'manhattan', 'n_neighbors': 9, 'weights': 'uniform'}\n"
     ]
    }
   ],
   "source": [
    "#Fit a K-nearest neighbours model\n",
    "knn = knn_gs.best_estimator_\n",
    "print(knn_gs.best_params_)"
   ]
  },
  {
   "cell_type": "code",
   "execution_count": 81,
   "metadata": {},
   "outputs": [
    {
     "name": "stdout",
     "output_type": "stream",
     "text": [
      "model accuracy:  0.34615384615384615\n",
      "baseline accuracy:  0.4423076923076923\n"
     ]
    }
   ],
   "source": [
    "#Compare knn model accuracy to baseline\n",
    "knn_pred = knn.predict(X_test)\n",
    "knn_score = knn.score(X_test, y_test)\n",
    "print('model accuracy: ', knn.score(X_test, y_test))\n",
    "print('baseline accuracy: ', baseline)"
   ]
  },
  {
   "cell_type": "code",
   "execution_count": 82,
   "metadata": {},
   "outputs": [
    {
     "data": {
      "text/plain": [
       "<matplotlib.axes._subplots.AxesSubplot at 0x1daeed74fd0>"
      ]
     },
     "execution_count": 82,
     "metadata": {},
     "output_type": "execute_result"
    },
    {
     "data": {
      "image/png": "[encoded data removed]",
      "text/plain": [
       "<Figure size 432x288 with 2 Axes>"
      ]
     },
     "metadata": {},
     "output_type": "display_data"
    }
   ],
   "source": [
    "cm1 = confusion_matrix(y_test, knn_pred)\n",
    "sns.heatmap(cm1, annot=True, fmt = '.1f', cmap = 'Blues', vmax = 30, vmin = 0, \n",
    "            xticklabels = ['Predicted Low','Predicted Medium','Predicted High'], \n",
    "            yticklabels = ['Actual Low', 'Actual Medium', 'Actual High'])"
   ]
  },
  {
   "cell_type": "markdown",
   "metadata": {},
   "source": [
    "The KNN model accuracy is slightly better than baseline."
   ]
  },
  {
   "cell_type": "markdown",
   "metadata": {},
   "source": [
    "### Model 2 -- Support Vector machine"
   ]
  },
  {
   "cell_type": "code",
   "execution_count": 83,
   "metadata": {},
   "outputs": [
    {
     "name": "stderr",
     "output_type": "stream",
     "text": [
      "D:\\ANACONDA\\lib\\site-packages\\sklearn\\model_selection\\_search.py:841: DeprecationWarning: The default of the `iid` parameter will change from True to False in version 0.22 and will be removed in 0.24. This will change numeric results when test-set sizes are unequal.\n",
      "  DeprecationWarning)\n"
     ]
    },
    {
     "data": {
      "text/plain": [
       "GridSearchCV(cv=5, error_score='raise-deprecating',\n",
       "       estimator=SVC(C=1.0, cache_size=200, class_weight=None, coef0=0.0,\n",
       "  decision_function_shape='ovr', degree=3, gamma='auto_deprecated',\n",
       "  kernel='rbf', max_iter=-1, probability=False, random_state=None,\n",
       "  shrinking=True, tol=0.001, verbose=False),\n",
       "       fit_params=None, iid='warn', n_jobs=None,\n",
       "       param_grid={'gamma': array([1.00000e-05, 2.33572e-05, 5.45559e-05, 1.27427e-04, 2.97635e-04,\n",
       "       6.95193e-04, 1.62378e-03, 3.79269e-03, 8.85867e-03, 2.06914e-02,\n",
       "       4.83293e-02, 1.12884e-01, 2.63665e-01, 6.15848e-01, 1.43845e+00,\n",
       "       3.35982e+00, 7.84760e+00, 1.83298e+01, 4.28133e+01, 1.00....15443e+00, 7.74264e+00, 2.78256e+01, 1.00000e+02]), 'kernel': ['rbf', 'sigmoid', 'linear', 'poly']},\n",
       "       pre_dispatch='2*n_jobs', refit=True, return_train_score='warn',\n",
       "       scoring='accuracy', verbose=0)"
      ]
     },
     "execution_count": 83,
     "metadata": {},
     "output_type": "execute_result"
    }
   ],
   "source": [
    "#Gridsearch for optimal hyperparameters\n",
    "svm = SVC()\n",
    "gammas = np.logspace(-5, 2, 20)\n",
    "Cs = np.logspace(-3, 2, 10)\n",
    "kernels = ['rbf', 'sigmoid', 'linear', 'poly']\n",
    "params = dict(gamma=gammas, C=Cs, kernel=kernels)\n",
    "svm_gs = GridSearchCV(svm, params, cv=5, scoring='accuracy')\n",
    "svm_gs.fit(X_train, y_train)"
   ]
  },
  {
   "cell_type": "code",
   "execution_count": 84,
   "metadata": {},
   "outputs": [
    {
     "name": "stdout",
     "output_type": "stream",
     "text": [
      "{'C': 2.1544346900318843, 'gamma': 0.0006951927961775605, 'kernel': 'rbf'}\n"
     ]
    }
   ],
   "source": [
    "svm_best = svm_gs.best_estimator_\n",
    "print(svm_gs.best_params_)"
   ]
  },
  {
   "cell_type": "code",
   "execution_count": 85,
   "metadata": {},
   "outputs": [
    {
     "name": "stdout",
     "output_type": "stream",
     "text": [
      "model accuracy:  0.36538461538461536\n",
      "baseline accuracy:  0.4423076923076923\n"
     ]
    }
   ],
   "source": [
    "svm_pred = svm_best.predict(X_test)\n",
    "svm_score = svm_best.score(X_test, y_test)\n",
    "print('model accuracy: ', svm_best.score(X_test, y_test))\n",
    "print('baseline accuracy: ', baseline)"
   ]
  },
  {
   "cell_type": "code",
   "execution_count": 86,
   "metadata": {},
   "outputs": [
    {
     "data": {
      "text/plain": [
       "<matplotlib.axes._subplots.AxesSubplot at 0x1daef8f7518>"
      ]
     },
     "execution_count": 86,
     "metadata": {},
     "output_type": "execute_result"
    },
    {
     "data": {
      "image/png": "[encoded data removed]",
      "text/plain": [
       "<Figure size 432x288 with 2 Axes>"
      ]
     },
     "metadata": {},
     "output_type": "display_data"
    }
   ],
   "source": [
    "cm1 = confusion_matrix(y_test, svm_pred)\n",
    "sns.heatmap(cm1, annot=True, fmt = '.1f', cmap = 'Blues', vmax = 30, vmin = 0, \n",
    "            xticklabels = ['Predicted Low','Predicted Medium','Predicted High'], \n",
    "            yticklabels = ['Actual Low', 'Actual Medium', 'Actual High'])"
   ]
  },
  {
   "cell_type": "markdown",
   "metadata": {},
   "source": [
    "### Model 3 -- Decision Trees"
   ]
  },
  {
   "cell_type": "code",
   "execution_count": 87,
   "metadata": {},
   "outputs": [
    {
     "name": "stderr",
     "output_type": "stream",
     "text": [
      "D:\\ANACONDA\\lib\\site-packages\\sklearn\\model_selection\\_search.py:841: DeprecationWarning: The default of the `iid` parameter will change from True to False in version 0.22 and will be removed in 0.24. This will change numeric results when test-set sizes are unequal.\n",
      "  DeprecationWarning)\n"
     ]
    },
    {
     "data": {
      "text/plain": [
       "GridSearchCV(cv=5, error_score='raise-deprecating',\n",
       "       estimator=DecisionTreeClassifier(class_weight=None, criterion='gini', max_depth=None,\n",
       "            max_features=None, max_leaf_nodes=None,\n",
       "            min_impurity_decrease=0.0, min_impurity_split=None,\n",
       "            min_samples_leaf=1, min_samples_split=2,\n",
       "            min_weight_fraction_leaf=0.0, presort=False, random_state=None,\n",
       "            splitter='best'),\n",
       "       fit_params=None, iid='warn', n_jobs=None,\n",
       "       param_grid={'max_depth': [3, 4, 5], 'max_leaf_nodes': [2, 3, 4], 'min_samples_split': [2, 3, 4, 5, 10, 15, 25], 'max_features': [5, 10, 50, 100, 500]},\n",
       "       pre_dispatch='2*n_jobs', refit=True, return_train_score='warn',\n",
       "       scoring=None, verbose=0)"
      ]
     },
     "execution_count": 87,
     "metadata": {},
     "output_type": "execute_result"
    }
   ],
   "source": [
    "#Gridsearch again for hyperparameters\n",
    "params = {'max_depth':[3,4,5],\n",
    "         'max_leaf_nodes':[2,3,4],\n",
    "         'min_samples_split':[2,3,4,5,10,15,25],\n",
    "         'max_features':[5,10,50,100,500]}\n",
    "dtc_gs = GridSearchCV(DecisionTreeClassifier(), params, cv=5)\n",
    "dtc_gs.fit(X_train, y_train)"
   ]
  },
  {
   "cell_type": "code",
   "execution_count": 88,
   "metadata": {},
   "outputs": [
    {
     "name": "stdout",
     "output_type": "stream",
     "text": [
      "{'max_depth': 4, 'max_features': 500, 'max_leaf_nodes': 2, 'min_samples_split': 3}\n"
     ]
    }
   ],
   "source": [
    "dtc = dtc_gs.best_estimator_\n",
    "print(dtc_gs.best_params_)"
   ]
  },
  {
   "cell_type": "code",
   "execution_count": 89,
   "metadata": {},
   "outputs": [
    {
     "name": "stdout",
     "output_type": "stream",
     "text": [
      "model accuracy:  0.4423076923076923\n",
      "baseline accuracy:  0.4423076923076923\n"
     ]
    }
   ],
   "source": [
    "dtc_pred = dtc.predict(X_test)\n",
    "dtc_score = dtc.score(X_test, y_test)\n",
    "print('model accuracy: ', dtc.score(X_test, y_test))\n",
    "print('baseline accuracy: ', baseline)"
   ]
  },
  {
   "cell_type": "code",
   "execution_count": 90,
   "metadata": {},
   "outputs": [
    {
     "data": {
      "text/plain": [
       "<matplotlib.axes._subplots.AxesSubplot at 0x1daf1585048>"
      ]
     },
     "execution_count": 90,
     "metadata": {},
     "output_type": "execute_result"
    },
    {
     "data": {
      "image/png": "[encoded data removed]",
      "text/plain": [
       "<Figure size 432x288 with 2 Axes>"
      ]
     },
     "metadata": {},
     "output_type": "display_data"
    }
   ],
   "source": [
    "cm1 = confusion_matrix(y_test, dtc_pred)\n",
    "sns.heatmap(cm1, annot=True, fmt = '.1f', cmap = 'Blues', vmax = 30, vmin = 0, \n",
    "            xticklabels = ['Predicted Low','Predicted Medium','Predicted High'], \n",
    "            yticklabels = ['Actual Low', 'Actual Medium', 'Actual High'])"
   ]
  },
  {
   "cell_type": "markdown",
   "metadata": {},
   "source": [
    "### Model 4 -- Bagging Classifier"
   ]
  },
  {
   "cell_type": "code",
   "execution_count": 91,
   "metadata": {},
   "outputs": [
    {
     "data": {
      "text/plain": [
       "BaggingClassifier(base_estimator=DecisionTreeClassifier(class_weight=None, criterion='gini', max_depth=4,\n",
       "            max_features=500, max_leaf_nodes=2, min_impurity_decrease=0.0,\n",
       "            min_impurity_split=None, min_samples_leaf=1,\n",
       "            min_samples_split=3, min_weight_fraction_leaf=0.0,\n",
       "            presort=False, random_state=None, splitter='best'),\n",
       "         bootstrap=True, bootstrap_features=False, max_features=1.0,\n",
       "         max_samples=1.0, n_estimators=10, n_jobs=None, oob_score=False,\n",
       "         random_state=5, verbose=0, warm_start=False)"
      ]
     },
     "execution_count": 91,
     "metadata": {},
     "output_type": "execute_result"
    }
   ],
   "source": [
    "#With bagging\n",
    "bag = BaggingClassifier(dtc, max_samples=1.0,random_state=5)\n",
    "bag.fit(X_train, y_train)"
   ]
  },
  {
   "cell_type": "code",
   "execution_count": 92,
   "metadata": {},
   "outputs": [
    {
     "name": "stdout",
     "output_type": "stream",
     "text": [
      "model accuracy:  0.4230769230769231\n",
      "baseline accuracy:  0.4423076923076923\n"
     ]
    }
   ],
   "source": [
    "bag_pred = bag.predict(X_test)\n",
    "bag_score = bag.score(X_test, y_test)\n",
    "print('model accuracy: ', bag.score(X_test, y_test))\n",
    "print('baseline accuracy: ', baseline)"
   ]
  },
  {
   "cell_type": "code",
   "execution_count": 93,
   "metadata": {},
   "outputs": [
    {
     "name": "stdout",
     "output_type": "stream",
     "text": [
      "              precision    recall  f1-score   support\n",
      "\n",
      "           0       0.00      0.00      0.00        12\n",
      "           1       0.45      0.87      0.60        23\n",
      "           2       0.25      0.12      0.16        17\n",
      "\n",
      "   micro avg       0.42      0.42      0.42        52\n",
      "   macro avg       0.23      0.33      0.25        52\n",
      "weighted avg       0.28      0.42      0.32        52\n",
      "\n"
     ]
    },
    {
     "name": "stderr",
     "output_type": "stream",
     "text": [
      "D:\\ANACONDA\\lib\\site-packages\\sklearn\\metrics\\classification.py:1143: UndefinedMetricWarning: Precision and F-score are ill-defined and being set to 0.0 in labels with no predicted samples.\n",
      "  'precision', 'predicted', average, warn_for)\n",
      "D:\\ANACONDA\\lib\\site-packages\\sklearn\\metrics\\classification.py:1143: UndefinedMetricWarning: Precision and F-score are ill-defined and being set to 0.0 in labels with no predicted samples.\n",
      "  'precision', 'predicted', average, warn_for)\n",
      "D:\\ANACONDA\\lib\\site-packages\\sklearn\\metrics\\classification.py:1143: UndefinedMetricWarning: Precision and F-score are ill-defined and being set to 0.0 in labels with no predicted samples.\n",
      "  'precision', 'predicted', average, warn_for)\n"
     ]
    },
    {
     "data": {
      "image/png": "[encoded data removed]",
      "text/plain": [
       "<Figure size 432x288 with 2 Axes>"
      ]
     },
     "metadata": {},
     "output_type": "display_data"
    }
   ],
   "source": [
    "cm1 = confusion_matrix(y_test, bag_pred)\n",
    "sns.heatmap(cm1, annot=True, fmt = '.1f', cmap = 'Blues', vmax = 30, vmin = 0, \n",
    "            xticklabels = ['Predicted Low','Predicted Medium','Predicted High'], \n",
    "            yticklabels = ['Actual Low', 'Actual Medium', 'Actual High'])\n",
    "print(classification_report(y_test,bag_pred))"
   ]
  },
  {
   "cell_type": "markdown",
   "metadata": {},
   "source": [
    "### Model 5 -- Random Forrest classifier"
   ]
  },
  {
   "cell_type": "code",
   "execution_count": 94,
   "metadata": {},
   "outputs": [
    {
     "name": "stdout",
     "output_type": "stream",
     "text": [
      "{'max_features': 20, 'min_samples_leaf': 5, 'min_samples_split': 20, 'n_estimators': 10}\n"
     ]
    },
    {
     "name": "stderr",
     "output_type": "stream",
     "text": [
      "D:\\ANACONDA\\lib\\site-packages\\sklearn\\model_selection\\_search.py:841: DeprecationWarning: The default of the `iid` parameter will change from True to False in version 0.22 and will be removed in 0.24. This will change numeric results when test-set sizes are unequal.\n",
      "  DeprecationWarning)\n"
     ]
    }
   ],
   "source": [
    "rf_params = {'n_estimators': [5,10,15,30,50],\n",
    "            'max_features':[5,20,50,100,250,500],\n",
    "            'min_samples_leaf':[1,5,10],\n",
    "            'min_samples_split':[2,5,20,25]\n",
    "            }\n",
    "\n",
    "rf_gs = GridSearchCV(RandomForestClassifier(), rf_params, cv=5)\n",
    "rf_gs.fit(X_train, y_train)\n",
    "rf = rf_gs.best_estimator_\n",
    "print(rf_gs.best_params_)"
   ]
  },
  {
   "cell_type": "code",
   "execution_count": 95,
   "metadata": {},
   "outputs": [
    {
     "name": "stdout",
     "output_type": "stream",
     "text": [
      "model accuracy:  0.5192307692307693\n",
      "baseline accuracy:  0.4423076923076923\n"
     ]
    }
   ],
   "source": [
    "rf_pred = rf.predict(X_test)\n",
    "rf_score = rf.score(X_test, y_test)\n",
    "print('model accuracy: ', rf.score(X_test, y_test))\n",
    "print('baseline accuracy: ', baseline)"
   ]
  },
  {
   "cell_type": "code",
   "execution_count": 96,
   "metadata": {},
   "outputs": [
    {
     "name": "stderr",
     "output_type": "stream",
     "text": [
      "D:\\ANACONDA\\lib\\site-packages\\sklearn\\metrics\\classification.py:1143: UndefinedMetricWarning: Precision and F-score are ill-defined and being set to 0.0 in labels with no predicted samples.\n",
      "  'precision', 'predicted', average, warn_for)\n",
      "D:\\ANACONDA\\lib\\site-packages\\sklearn\\metrics\\classification.py:1143: UndefinedMetricWarning: Precision and F-score are ill-defined and being set to 0.0 in labels with no predicted samples.\n",
      "  'precision', 'predicted', average, warn_for)\n",
      "D:\\ANACONDA\\lib\\site-packages\\sklearn\\metrics\\classification.py:1143: UndefinedMetricWarning: Precision and F-score are ill-defined and being set to 0.0 in labels with no predicted samples.\n",
      "  'precision', 'predicted', average, warn_for)\n"
     ]
    },
    {
     "name": "stdout",
     "output_type": "stream",
     "text": [
      "              precision    recall  f1-score   support\n",
      "\n",
      "           0       0.00      0.00      0.00        12\n",
      "           1       0.49      0.96      0.65        23\n",
      "           2       0.71      0.29      0.42        17\n",
      "\n",
      "   micro avg       0.52      0.52      0.52        52\n",
      "   macro avg       0.40      0.42      0.35        52\n",
      "weighted avg       0.45      0.52      0.42        52\n",
      "\n"
     ]
    },
    {
     "data": {
      "image/png": "[encoded data removed]",
      "text/plain": [
       "<Figure size 432x288 with 2 Axes>"
      ]
     },
     "metadata": {},
     "output_type": "display_data"
    }
   ],
   "source": [
    "cm1 = confusion_matrix(y_test, rf_pred)\n",
    "sns.heatmap(cm1, annot=True, fmt = '.1f', cmap = 'Blues', vmax = 30, vmin = 0, \n",
    "            xticklabels = ['Predicted Low','Predicted Medium','Predicted High'], \n",
    "            yticklabels = ['Actual Low', 'Actual Medium', 'Actual High'])\n",
    "print(classification_report(y_test,rf_pred))"
   ]
  },
  {
   "cell_type": "markdown",
   "metadata": {},
   "source": [
    "### Classification model summary"
   ]
  },
  {
   "cell_type": "code",
   "execution_count": 121,
   "metadata": {},
   "outputs": [],
   "source": [
    "models = ['KNN','SVM','DecisionTree','Bagging','RandomForest','Baseline']\n",
    "accuracy = [knn_score, svm_score, dtc_score, bag_score,rf_score, baseline]\n",
    "class_summary = pd.DataFrame({'Model':models, 'Accuracy':accuracy})\n",
    "class_summary = class_summary.set_index('Model')"
   ]
  },
  {
   "cell_type": "code",
   "execution_count": 122,
   "metadata": {},
   "outputs": [
    {
     "data": {
      "text/html": [
       "<div>\n",
       "<style scoped>\n",
       "    .dataframe tbody tr th:only-of-type {\n",
       "        vertical-align: middle;\n",
       "    }\n",
       "\n",
       "    .dataframe tbody tr th {\n",
       "        vertical-align: top;\n",
       "    }\n",
       "\n",
       "    .dataframe thead th {\n",
       "        text-align: right;\n",
       "    }\n",
       "</style>\n",
       "<table border=\"1\" class=\"dataframe\">\n",
       "  <thead>\n",
       "    <tr style=\"text-align: right;\">\n",
       "      <th></th>\n",
       "      <th>Accuracy</th>\n",
       "    </tr>\n",
       "    <tr>\n",
       "      <th>Model</th>\n",
       "      <th></th>\n",
       "    </tr>\n",
       "  </thead>\n",
       "  <tbody>\n",
       "    <tr>\n",
       "      <th>KNN</th>\n",
       "      <td>0.346154</td>\n",
       "    </tr>\n",
       "    <tr>\n",
       "      <th>SVM</th>\n",
       "      <td>0.365385</td>\n",
       "    </tr>\n",
       "    <tr>\n",
       "      <th>DecisionTree</th>\n",
       "      <td>0.442308</td>\n",
       "    </tr>\n",
       "    <tr>\n",
       "      <th>Bagging</th>\n",
       "      <td>0.423077</td>\n",
       "    </tr>\n",
       "    <tr>\n",
       "      <th>RandomForest</th>\n",
       "      <td>0.519231</td>\n",
       "    </tr>\n",
       "    <tr>\n",
       "      <th>Baseline</th>\n",
       "      <td>0.442308</td>\n",
       "    </tr>\n",
       "  </tbody>\n",
       "</table>\n",
       "</div>"
      ],
      "text/plain": [
       "              Accuracy\n",
       "Model                 \n",
       "KNN           0.346154\n",
       "SVM           0.365385\n",
       "DecisionTree  0.442308\n",
       "Bagging       0.423077\n",
       "RandomForest  0.519231\n",
       "Baseline      0.442308"
      ]
     },
     "execution_count": 122,
     "metadata": {},
     "output_type": "execute_result"
    }
   ],
   "source": [
    "class_summary"
   ]
  },
  {
   "cell_type": "markdown",
   "metadata": {},
   "source": [
    "OBSV : Random Forrest gave the highest accuracy with an ensemble bagging classifier achieving the second-highest accuracy.I would investigate further which are the importance features for Random Forrest further."
   ]
  },
  {
   "cell_type": "code",
   "execution_count": 241,
   "metadata": {},
   "outputs": [
    {
     "data": {
      "text/html": [
       "<div>\n",
       "<style scoped>\n",
       "    .dataframe tbody tr th:only-of-type {\n",
       "        vertical-align: middle;\n",
       "    }\n",
       "\n",
       "    .dataframe tbody tr th {\n",
       "        vertical-align: top;\n",
       "    }\n",
       "\n",
       "    .dataframe thead th {\n",
       "        text-align: right;\n",
       "    }\n",
       "</style>\n",
       "<table border=\"1\" class=\"dataframe\">\n",
       "  <thead>\n",
       "    <tr style=\"text-align: right;\">\n",
       "      <th></th>\n",
       "      <th>feature</th>\n",
       "      <th>importance</th>\n",
       "    </tr>\n",
       "  </thead>\n",
       "  <tbody>\n",
       "    <tr>\n",
       "      <th>217</th>\n",
       "      <td>kw_au</td>\n",
       "      <td>0.044463</td>\n",
       "    </tr>\n",
       "    <tr>\n",
       "      <th>108</th>\n",
       "      <td>kw_candid</td>\n",
       "      <td>0.041677</td>\n",
       "    </tr>\n",
       "    <tr>\n",
       "      <th>120</th>\n",
       "      <td>kw_drive</td>\n",
       "      <td>0.038194</td>\n",
       "    </tr>\n",
       "    <tr>\n",
       "      <th>128</th>\n",
       "      <td>kw_base</td>\n",
       "      <td>0.033333</td>\n",
       "    </tr>\n",
       "    <tr>\n",
       "      <th>65</th>\n",
       "      <td>kw_process</td>\n",
       "      <td>0.033333</td>\n",
       "    </tr>\n",
       "    <tr>\n",
       "      <th>538</th>\n",
       "      <td>kw_view</td>\n",
       "      <td>0.032732</td>\n",
       "    </tr>\n",
       "    <tr>\n",
       "      <th>40</th>\n",
       "      <td>kw_analyt</td>\n",
       "      <td>0.028606</td>\n",
       "    </tr>\n",
       "    <tr>\n",
       "      <th>59</th>\n",
       "      <td>kw_servic</td>\n",
       "      <td>0.028094</td>\n",
       "    </tr>\n",
       "    <tr>\n",
       "      <th>228</th>\n",
       "      <td>kw_thi</td>\n",
       "      <td>0.024381</td>\n",
       "    </tr>\n",
       "    <tr>\n",
       "      <th>114</th>\n",
       "      <td>kw_relat</td>\n",
       "      <td>0.022855</td>\n",
       "    </tr>\n",
       "  </tbody>\n",
       "</table>\n",
       "</div>"
      ],
      "text/plain": [
       "        feature  importance\n",
       "217       kw_au    0.044463\n",
       "108   kw_candid    0.041677\n",
       "120    kw_drive    0.038194\n",
       "128     kw_base    0.033333\n",
       "65   kw_process    0.033333\n",
       "538     kw_view    0.032732\n",
       "40    kw_analyt    0.028606\n",
       "59    kw_servic    0.028094\n",
       "228      kw_thi    0.024381\n",
       "114    kw_relat    0.022855"
      ]
     },
     "execution_count": 241,
     "metadata": {},
     "output_type": "execute_result"
    }
   ],
   "source": [
    "importance = rf.feature_importances_\n",
    "importance_df = pd.DataFrame({'feature':X.columns, 'importance':importance}).sort_values('importance', ascending= False)\n",
    "importance_df.head(10)"
   ]
  },
  {
   "cell_type": "markdown",
   "metadata": {},
   "source": [
    "OBSV : Both 'learning' in the job title and 'model' in the job summary appear to be important for classifying the salary level of the \n",
    "job, suggesting that carrying out machine learning and modelling affects the level of pay. 'Scientist' also appears in the list,\n",
    "suggesting that perhaps data scientist jobs (where one would likely be doing more machine learning) are typically in a different\n",
    "pay grade to other jobs. The keyword 'head' also appears, unsurprisingly, suggesting that leadership positions also have an \n",
    "impact on salary class."
   ]
  },
  {
   "cell_type": "code",
   "execution_count": 118,
   "metadata": {},
   "outputs": [],
   "source": [
    "#Export to a .csv file for use in question 2\n",
    "filename = 'jobs_part3_complete.csv'\n",
    "jobs_full.to_csv(filename)"
   ]
  },
  {
   "cell_type": "code",
   "execution_count": null,
   "metadata": {},
   "outputs": [],
   "source": []
  }
 ],
 "metadata": {
  "kernelspec": {
   "display_name": "Python 3",
   "language": "python",
   "name": "python3"
  },
  "language_info": {
   "codemirror_mode": {
    "name": "ipython",
    "version": 3
   },
   "file_extension": ".py",
   "mimetype": "text/x-python",
   "name": "python",
   "nbconvert_exporter": "python",
   "pygments_lexer": "ipython3",
   "version": "3.6.5"
  }
 },
 "nbformat": 4,
 "nbformat_minor": 2
}
